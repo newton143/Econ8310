{
  "nbformat": 4,
  "nbformat_minor": 0,
  "metadata": {
    "colab": {
      "provenance": [],
      "authorship_tag": "ABX9TyMyPMpZhRRc34ThpwXVESdN",
      "include_colab_link": true
    },
    "kernelspec": {
      "name": "python3",
      "display_name": "Python 3"
    },
    "language_info": {
      "name": "python"
    }
  },
  "cells": [
    {
      "cell_type": "markdown",
      "metadata": {
        "id": "view-in-github",
        "colab_type": "text"
      },
      "source": [
        "<a href=\"https://colab.research.google.com/github/newton143/Econ8310/blob/master/Assignment3.ipynb\" target=\"_parent\"><img src=\"https://colab.research.google.com/assets/colab-badge.svg\" alt=\"Open In Colab\"/></a>"
      ]
    },
    {
      "cell_type": "code",
      "execution_count": 5,
      "metadata": {
        "id": "5lgmUUMQvVbA"
      },
      "outputs": [],
      "source": [
        "import pandas as pd\n",
        "import torch\n",
        "import torch.nn as nn\n",
        "import torch.nn.functional as F\n",
        "from torch.utils.data import DataLoader\n",
        "from torchvision import datasets, transforms\n",
        "import matplotlib.pyplot as plt\n",
        "import plotly.express as px\n"
      ]
    },
    {
      "cell_type": "code",
      "source": [
        "# Define device (GPU if available, else CPU)\n",
        "device = torch.device(\"cuda\" if torch.cuda.is_available() else \"cpu\")\n",
        "\n",
        "# Define transformations for data preprocessing\n",
        "transform = transforms.Compose([\n",
        "    transforms.ToTensor(),\n",
        "    transforms.Normalize((0.5,), (0.5,))\n",
        "])\n",
        "\n",
        "# Load training and test data using torchvision.datasets\n",
        "train_data = datasets.FashionMNIST(root='data', train=True, download=True, transform=transform)\n",
        "test_data = datasets.FashionMNIST(root='data', train=False, download=True, transform=transform)\n",
        "\n",
        "# Create DataLoader objects\n",
        "train_loader = DataLoader(train_data, batch_size=64, shuffle=True)\n",
        "test_loader = DataLoader(test_data, batch_size=64, shuffle=False)"
      ],
      "metadata": {
        "colab": {
          "base_uri": "https://localhost:8080/"
        },
        "id": "LU_EBJ64wCqI",
        "outputId": "339726e9-6790-4c35-96b6-6389c0191b73"
      },
      "execution_count": 6,
      "outputs": [
        {
          "output_type": "stream",
          "name": "stdout",
          "text": [
            "Downloading http://fashion-mnist.s3-website.eu-central-1.amazonaws.com/train-images-idx3-ubyte.gz\n",
            "Downloading http://fashion-mnist.s3-website.eu-central-1.amazonaws.com/train-images-idx3-ubyte.gz to data/FashionMNIST/raw/train-images-idx3-ubyte.gz\n"
          ]
        },
        {
          "output_type": "stream",
          "name": "stderr",
          "text": [
            "100%|██████████| 26.4M/26.4M [00:01<00:00, 16.2MB/s]\n"
          ]
        },
        {
          "output_type": "stream",
          "name": "stdout",
          "text": [
            "Extracting data/FashionMNIST/raw/train-images-idx3-ubyte.gz to data/FashionMNIST/raw\n",
            "\n",
            "Downloading http://fashion-mnist.s3-website.eu-central-1.amazonaws.com/train-labels-idx1-ubyte.gz\n",
            "Downloading http://fashion-mnist.s3-website.eu-central-1.amazonaws.com/train-labels-idx1-ubyte.gz to data/FashionMNIST/raw/train-labels-idx1-ubyte.gz\n"
          ]
        },
        {
          "output_type": "stream",
          "name": "stderr",
          "text": [
            "100%|██████████| 29.5k/29.5k [00:00<00:00, 276kB/s]\n"
          ]
        },
        {
          "output_type": "stream",
          "name": "stdout",
          "text": [
            "Extracting data/FashionMNIST/raw/train-labels-idx1-ubyte.gz to data/FashionMNIST/raw\n",
            "\n",
            "Downloading http://fashion-mnist.s3-website.eu-central-1.amazonaws.com/t10k-images-idx3-ubyte.gz\n",
            "Downloading http://fashion-mnist.s3-website.eu-central-1.amazonaws.com/t10k-images-idx3-ubyte.gz to data/FashionMNIST/raw/t10k-images-idx3-ubyte.gz\n"
          ]
        },
        {
          "output_type": "stream",
          "name": "stderr",
          "text": [
            "100%|██████████| 4.42M/4.42M [00:00<00:00, 5.15MB/s]\n"
          ]
        },
        {
          "output_type": "stream",
          "name": "stdout",
          "text": [
            "Extracting data/FashionMNIST/raw/t10k-images-idx3-ubyte.gz to data/FashionMNIST/raw\n",
            "\n",
            "Downloading http://fashion-mnist.s3-website.eu-central-1.amazonaws.com/t10k-labels-idx1-ubyte.gz\n",
            "Downloading http://fashion-mnist.s3-website.eu-central-1.amazonaws.com/t10k-labels-idx1-ubyte.gz to data/FashionMNIST/raw/t10k-labels-idx1-ubyte.gz\n"
          ]
        },
        {
          "output_type": "stream",
          "name": "stderr",
          "text": [
            "100%|██████████| 5.15k/5.15k [00:00<00:00, 8.28MB/s]"
          ]
        },
        {
          "output_type": "stream",
          "name": "stdout",
          "text": [
            "Extracting data/FashionMNIST/raw/t10k-labels-idx1-ubyte.gz to data/FashionMNIST/raw\n",
            "\n"
          ]
        },
        {
          "output_type": "stream",
          "name": "stderr",
          "text": [
            "\n"
          ]
        }
      ]
    },
    {
      "cell_type": "code",
      "source": [
        "# Define the Neural Network\n",
        "class FashionNet(nn.Module):\n",
        "    def __init__(self):\n",
        "        super(FashionNet, self).__init__()\n",
        "        self.flatten = nn.Flatten()\n",
        "        self.model = nn.Sequential(\n",
        "            nn.Linear(28*28, 128),\n",
        "            nn.ReLU(),\n",
        "            nn.Linear(128, 64),\n",
        "            nn.ReLU(),\n",
        "            nn.Linear(64, 10)\n",
        "        )\n",
        "\n",
        "    def forward(self, x):\n",
        "        x = self.flatten(x)  # Ensure correct input shape\n",
        "        return self.model(x)\n"
      ],
      "metadata": {
        "id": "xTv04bePwyAw"
      },
      "execution_count": 7,
      "outputs": []
    },
    {
      "cell_type": "code",
      "source": [
        "# Initialize model, loss, and optimizer\n",
        "model = FashionNet().to(device)\n",
        "loss_fn = nn.CrossEntropyLoss()\n",
        "optimizer = torch.optim.SGD(model.parameters(), lr=0.01)"
      ],
      "metadata": {
        "id": "T8grjuj0w5df"
      },
      "execution_count": 8,
      "outputs": []
    },
    {
      "cell_type": "code",
      "source": [
        "# Training Loop\n",
        "def train(model, train_loader, loss_fn, optimizer, epochs=10):\n",
        "    for epoch in range(epochs):\n",
        "        for batch, (X, y) in enumerate(train_loader):\n",
        "            X, y = X.to(device), y.to(device)  # Move data to the correct device\n",
        "            pred = model(X)\n",
        "            loss = loss_fn(pred, y)\n",
        "\n",
        "            optimizer.zero_grad()\n",
        "            loss.backward()\n",
        "            optimizer.step()\n",
        "\n",
        "            if batch % 100 == 0:\n",
        "                print(f\"Epoch {epoch+1}, Batch {batch}, Loss: {loss.item():.4f}\")\n",
        "    print(\"Training complete!\")\n"
      ],
      "metadata": {
        "id": "U0i0CUhQw6u1"
      },
      "execution_count": 9,
      "outputs": []
    },
    {
      "cell_type": "code",
      "source": [
        "# Evaluate the model\n",
        "def test(model, test_loader, loss_fn):\n",
        "    model.eval()\n",
        "    correct = 0\n",
        "    total = 0\n",
        "    with torch.no_grad():\n",
        "        for X, y in test_loader:\n",
        "            X, y = X.to(device), y.to(device)  # Move data to the correct device\n",
        "            pred = model(X).argmax(1)\n",
        "            correct += (pred == y).sum().item()\n",
        "            total += y.size(0)\n",
        "    print(f\"Test Accuracy: {100 * correct / total:.2f}%\")"
      ],
      "metadata": {
        "id": "d9X80lL4xAWu"
      },
      "execution_count": 10,
      "outputs": []
    },
    {
      "cell_type": "code",
      "source": [
        "# Train and test\n",
        "train(model, train_loader, loss_fn, optimizer, epochs=10)\n",
        "test(model, test_loader, loss_fn)"
      ],
      "metadata": {
        "colab": {
          "base_uri": "https://localhost:8080/"
        },
        "id": "KmbavTszxEBD",
        "outputId": "be9cc46d-f878-4a38-e0f1-4952e2e5a803"
      },
      "execution_count": 11,
      "outputs": [
        {
          "output_type": "stream",
          "name": "stdout",
          "text": [
            "Epoch 1, Batch 0, Loss: 2.3081\n",
            "Epoch 1, Batch 100, Loss: 1.8482\n",
            "Epoch 1, Batch 200, Loss: 1.1917\n",
            "Epoch 1, Batch 300, Loss: 0.9264\n",
            "Epoch 1, Batch 400, Loss: 0.7400\n",
            "Epoch 1, Batch 500, Loss: 0.8010\n",
            "Epoch 1, Batch 600, Loss: 0.7425\n",
            "Epoch 1, Batch 700, Loss: 0.7333\n",
            "Epoch 1, Batch 800, Loss: 0.6149\n",
            "Epoch 1, Batch 900, Loss: 0.6402\n",
            "Epoch 2, Batch 0, Loss: 0.5611\n",
            "Epoch 2, Batch 100, Loss: 0.5837\n",
            "Epoch 2, Batch 200, Loss: 0.6706\n",
            "Epoch 2, Batch 300, Loss: 0.4422\n",
            "Epoch 2, Batch 400, Loss: 0.5569\n",
            "Epoch 2, Batch 500, Loss: 0.6381\n",
            "Epoch 2, Batch 600, Loss: 0.3826\n",
            "Epoch 2, Batch 700, Loss: 0.4735\n",
            "Epoch 2, Batch 800, Loss: 0.4749\n",
            "Epoch 2, Batch 900, Loss: 0.4559\n",
            "Epoch 3, Batch 0, Loss: 0.5115\n",
            "Epoch 3, Batch 100, Loss: 0.4284\n",
            "Epoch 3, Batch 200, Loss: 0.5359\n",
            "Epoch 3, Batch 300, Loss: 0.3751\n",
            "Epoch 3, Batch 400, Loss: 0.3716\n",
            "Epoch 3, Batch 500, Loss: 0.4424\n",
            "Epoch 3, Batch 600, Loss: 0.4888\n",
            "Epoch 3, Batch 700, Loss: 0.4129\n",
            "Epoch 3, Batch 800, Loss: 0.5655\n",
            "Epoch 3, Batch 900, Loss: 0.6311\n",
            "Epoch 4, Batch 0, Loss: 0.5478\n",
            "Epoch 4, Batch 100, Loss: 0.5779\n",
            "Epoch 4, Batch 200, Loss: 0.4019\n",
            "Epoch 4, Batch 300, Loss: 0.5725\n",
            "Epoch 4, Batch 400, Loss: 0.3437\n",
            "Epoch 4, Batch 500, Loss: 0.3705\n",
            "Epoch 4, Batch 600, Loss: 0.4375\n",
            "Epoch 4, Batch 700, Loss: 0.5101\n",
            "Epoch 4, Batch 800, Loss: 0.8212\n",
            "Epoch 4, Batch 900, Loss: 0.6464\n",
            "Epoch 5, Batch 0, Loss: 0.2812\n",
            "Epoch 5, Batch 100, Loss: 0.3762\n",
            "Epoch 5, Batch 200, Loss: 0.4522\n",
            "Epoch 5, Batch 300, Loss: 0.4205\n",
            "Epoch 5, Batch 400, Loss: 0.4743\n",
            "Epoch 5, Batch 500, Loss: 0.3517\n",
            "Epoch 5, Batch 600, Loss: 0.4086\n",
            "Epoch 5, Batch 700, Loss: 0.5593\n",
            "Epoch 5, Batch 800, Loss: 0.4781\n",
            "Epoch 5, Batch 900, Loss: 0.5569\n",
            "Epoch 6, Batch 0, Loss: 0.4072\n",
            "Epoch 6, Batch 100, Loss: 0.5270\n",
            "Epoch 6, Batch 200, Loss: 0.4456\n",
            "Epoch 6, Batch 300, Loss: 0.3627\n",
            "Epoch 6, Batch 400, Loss: 0.2707\n",
            "Epoch 6, Batch 500, Loss: 0.3826\n",
            "Epoch 6, Batch 600, Loss: 0.5926\n",
            "Epoch 6, Batch 700, Loss: 0.4280\n",
            "Epoch 6, Batch 800, Loss: 0.5020\n",
            "Epoch 6, Batch 900, Loss: 0.3840\n",
            "Epoch 7, Batch 0, Loss: 0.3084\n",
            "Epoch 7, Batch 100, Loss: 0.4279\n",
            "Epoch 7, Batch 200, Loss: 0.3660\n",
            "Epoch 7, Batch 300, Loss: 0.3541\n",
            "Epoch 7, Batch 400, Loss: 0.4461\n",
            "Epoch 7, Batch 500, Loss: 0.4450\n",
            "Epoch 7, Batch 600, Loss: 0.5848\n",
            "Epoch 7, Batch 700, Loss: 0.5814\n",
            "Epoch 7, Batch 800, Loss: 0.2618\n",
            "Epoch 7, Batch 900, Loss: 0.3388\n",
            "Epoch 8, Batch 0, Loss: 0.3479\n",
            "Epoch 8, Batch 100, Loss: 0.4893\n",
            "Epoch 8, Batch 200, Loss: 0.3343\n",
            "Epoch 8, Batch 300, Loss: 0.4494\n",
            "Epoch 8, Batch 400, Loss: 0.5110\n",
            "Epoch 8, Batch 500, Loss: 0.3069\n",
            "Epoch 8, Batch 600, Loss: 0.5509\n",
            "Epoch 8, Batch 700, Loss: 0.5193\n",
            "Epoch 8, Batch 800, Loss: 0.3048\n",
            "Epoch 8, Batch 900, Loss: 0.3441\n",
            "Epoch 9, Batch 0, Loss: 0.3188\n",
            "Epoch 9, Batch 100, Loss: 0.3736\n",
            "Epoch 9, Batch 200, Loss: 0.4356\n",
            "Epoch 9, Batch 300, Loss: 0.3578\n",
            "Epoch 9, Batch 400, Loss: 0.2681\n",
            "Epoch 9, Batch 500, Loss: 0.5277\n",
            "Epoch 9, Batch 600, Loss: 0.5806\n",
            "Epoch 9, Batch 700, Loss: 0.4582\n",
            "Epoch 9, Batch 800, Loss: 0.3632\n",
            "Epoch 9, Batch 900, Loss: 0.3460\n",
            "Epoch 10, Batch 0, Loss: 0.2890\n",
            "Epoch 10, Batch 100, Loss: 0.4301\n",
            "Epoch 10, Batch 200, Loss: 0.3481\n",
            "Epoch 10, Batch 300, Loss: 0.3179\n",
            "Epoch 10, Batch 400, Loss: 0.2351\n",
            "Epoch 10, Batch 500, Loss: 0.3366\n",
            "Epoch 10, Batch 600, Loss: 0.2632\n",
            "Epoch 10, Batch 700, Loss: 0.3762\n",
            "Epoch 10, Batch 800, Loss: 0.5231\n",
            "Epoch 10, Batch 900, Loss: 0.3993\n",
            "Training complete!\n",
            "Test Accuracy: 85.42%\n"
          ]
        }
      ]
    },
    {
      "cell_type": "code",
      "source": [
        "# Save model weights\n",
        "torch.save(model.state_dict(), \"fashion_mnist.pth\")\n",
        "print(\"Model weights saved!\")"
      ],
      "metadata": {
        "colab": {
          "base_uri": "https://localhost:8080/"
        },
        "id": "8yKukk4zxx9O",
        "outputId": "0cf0479c-0e81-41d4-92c0-74752f7e6fae"
      },
      "execution_count": 12,
      "outputs": [
        {
          "output_type": "stream",
          "name": "stdout",
          "text": [
            "Model weights saved!\n"
          ]
        }
      ]
    },
    {
      "cell_type": "code",
      "source": [
        "# Load and test the model using saved weights\n",
        "def load_and_test():\n",
        "    model = FashionNet().to(device)\n",
        "    model.load_state_dict(torch.load(\"fashion_mnist.pth\"))\n",
        "    model.eval()\n",
        "    print(\"Model loaded successfully!\")\n",
        "    test(model, test_loader, loss_fn)\n",
        "\n",
        "load_and_test()"
      ],
      "metadata": {
        "colab": {
          "base_uri": "https://localhost:8080/"
        },
        "id": "UdzBY6MqyA4N",
        "outputId": "264ef266-5114-41d9-e704-b8594d9a4021"
      },
      "execution_count": 13,
      "outputs": [
        {
          "output_type": "stream",
          "name": "stderr",
          "text": [
            "<ipython-input-13-e00fc5fefd13>:4: FutureWarning: You are using `torch.load` with `weights_only=False` (the current default value), which uses the default pickle module implicitly. It is possible to construct malicious pickle data which will execute arbitrary code during unpickling (See https://github.com/pytorch/pytorch/blob/main/SECURITY.md#untrusted-models for more details). In a future release, the default value for `weights_only` will be flipped to `True`. This limits the functions that could be executed during unpickling. Arbitrary objects will no longer be allowed to be loaded via this mode unless they are explicitly allowlisted by the user via `torch.serialization.add_safe_globals`. We recommend you start setting `weights_only=True` for any use case where you don't have full control of the loaded file. Please open an issue on GitHub for any issues related to this experimental feature.\n",
            "  model.load_state_dict(torch.load(\"fashion_mnist.pth\"))\n"
          ]
        },
        {
          "output_type": "stream",
          "name": "stdout",
          "text": [
            "Model loaded successfully!\n",
            "Test Accuracy: 85.42%\n"
          ]
        }
      ]
    }
  ]
}