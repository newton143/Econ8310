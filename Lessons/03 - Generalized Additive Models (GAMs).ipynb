{
 "cells": [
  {
   "cell_type": "markdown",
   "id": "479f1e86-2a90-4ab3-bfca-f4e5aa026670",
   "metadata": {
    "tags": []
   },
   "source": [
    "# Generalized Additive Models (GAM)\n",
    "\n",
    "While linear models are valuable, sometimes we need a bit more flexibility. We have a few options to overcome linearity constraints in our statistical models:\n",
    "\n",
    "1. Adding higher order parameters to our linear model\n",
    "2. Strictly non-parametric modeling\n",
    "3. Semi-parametric models\n",
    "\n",
    "## Higher Orders in OLS\n",
    "\n",
    "When estimating the effect of age (or experience) on earnings for workers, we frequently discuss a pattern that is called the \"earnings-experience profile\". This pattern looks like the following chart: \n",
    "\n",
    "![](https://taxfoundation.org/wp-content/uploads/2019/03/PaF-Chart-121.png)\n",
    "\n",
    "It is clear that this graph does not demonstrate a linear relationship between age (a proxy for experience) and earnings. It looks much more like a quadratic equation to me. How can we incorporate that functional form into a linear model?\n",
    "\n",
    "It turns out that OLS's assumptions state that the relationship between a paramter and the dependent variabe be linear, but not necessarily that the parameter itself be linear. What we can do to sidestep this problem is to simply **include non-linear terms in our regression model**. Let's look at a simple regression equation:\n",
    "\n",
    "$$ y_i = \\alpha + \\beta \\cdot x_i + \\epsilon_i $$\n",
    "\n",
    "The REQUIRED linearity stipulates that $\\beta \\cdot x_i$ be a linear relationship, or in other words that $\\beta$ be a number (not some other type of functional form). If we want to consider a non-linear relationship between $y$ and $x$, then we can adjust our regression model like this:\n",
    "\n",
    "$$ y_i = \\alpha + \\beta_1 \\cdot x_{i} + \\beta_2 \\cdot x^2_{i} + \\epsilon_i $$\n",
    "\n",
    "Now, we still have a linear relationshipe between each parameter and our dependent variable ($y$), but we have created a second parameter based on our original $x$ variable: $x^2$. Thus, we can estimate the quadratic relationship between $x$ and $y$ using linear regression. The marginal effect of increasing $x$ by one unit in this model is no longer $\\beta(x_{old}-x_{new})$. Now, it is $\\beta_1(x_{old}-x_{new}) + \\beta_2(x_{old}^2-x_{new}^2)$, and depends on the **current $x$ values**!\n",
    "\n",
    "\n",
    "## Non-parametric Modeling\n",
    "\n",
    "Another alternative is to simply abandon the parametric nature of OLS, and allow our model to assume **any** functional form. Thus, the relationship between $y$ and $x$ could be represented as\n",
    "\n",
    "$$ y_i = f(x_i) + \\epsilon_i $$\n",
    "\n",
    "where $f()$ can be any functional form. We can then have ANY relationship between $x$ and $y$, and are not hindered by any restrictions or assumptions in our model.\n",
    "\n",
    "Why don't we do this? I'll give you two reasons. First, it quickly becomes computationally intensive. The most common method for estimation of non-parametric models is through **kernel regression** (you can also use **regression trees** and several other tools, though). These models require large amounts of data in order to estimate, because each portion of the resulting model is in effect calculated based on the nearest observations. This also means that each individual point in the model needs to be separately estimated. While this is reasonable for simple regressions, it becomes complex and slow as the number of variables in a model increase.\n",
    "\n",
    "Second, when we estimate an entirely non-parametric model, we are likely to generate interaction terms between variables. This means that the effects of one variable cannot be easily separated from the effects of other variables included in our model. If we have two $x$ parameters ($x_1, x_2$), our model can be written\n",
    "\n",
    "$$ y_i = f(x_1, x_2) + \\epsilon_i $$\n",
    "\n",
    "and the marginal effects of these parameters given the model specified will be\n",
    "\n",
    "$$ ME_1 = \\frac{\\partial f}{\\partial x_1} $$\n",
    "and\n",
    "\n",
    "$$ ME_2 = \\frac{\\partial f}{\\partial x_2} .$$\n",
    "\n",
    "At this point, we have lost the ability to quickly interpret our marginal effects, and must generate estimates **at any specific observation** of the marginal effect of changes to inputs. In order to have a more flexible model, we have sacrificed both ease of calculation as well as ease of interpretability.\n",
    "\n",
    "What we really need is some sort of middle ground, and this can be achieved through **Generalized Additive Models**.\n",
    "\n",
    "## Generalized Additive Models (GAMs)\n",
    "\n",
    "Generalized Additive Models, or GAMs, provide a nice middle ground between linear models and non-parametric modeling by opening a subclass of non-parametric models to analyze data, while also attempting to preserve interpretability. The restricted flexibility of GAMs is rooted in the restriction to **additively separable** functional forms.\n",
    "\n",
    "What does that mean? Each explanatory variable must have an **additively separable** form in the regression model. To simplify even further, each variable can have ANY functional form so long as that form **does not interact with the functional forms of other variables**. In math speak, it's like this:\n",
    "\n",
    "$$ y_i = \\sum_{j=1}^K f_j(x_{j,i}) + \\epsilon_i $$\n",
    "\n",
    "If we had two variables again ($x_1, x_2$), then our model would be\n",
    "\n",
    "$$ y_i = f_1(x_{1,i}) + f_2(x_{2,i}) + \\epsilon_i. $$\n",
    "\n",
    "Our functional form for each variable can take any shape, but must be totally separate for each $x$! This is what we call additively separable, because each function can be added together to become the overall estimate of $y$. Additionally, this makes for some really nice properties when interpreting the model.\n",
    "\n",
    "- Each functional form can be separately visualized!\n",
    "- Each functional form relates to only one variable, and so the slope estimates are much easier to calculate when estimating marginal effects.\n",
    "\n",
    "Let's dive into creating GAMs in Python, and use that experience to learn a bit more about how they work.\n",
    "\n",
    "## Using GAMs\n",
    "\n",
    "\n",
    "\n",
    "### Facebook's `Prophet`\n",
    "\n",
    "There are two libraries that we will cover as we explore the use of GAMs for forecasting. The first is the [`Prophet`](https://facebook.github.io/prophet/) library from Facebook. Using this library, we can create time series-focused GAMs.\n",
    "\n",
    "`Prophet` expects our data to be structured in very specific ways. Let's import some data and take a look:"
   ]
  },
  {
   "cell_type": "code",
   "execution_count": 2,
   "id": "61863ac0-e50f-485c-a100-249456b98e34",
   "metadata": {},
   "outputs": [],
   "source": [
    "# !pip install prophet # Only use this line if prophet is not already installed\n",
    "\n",
    "import pandas as pd\n",
    "from prophet import Prophet\n",
    "\n",
    "data = pd.read_csv(\"https://github.com/dustywhite7/Econ8310/raw/master/DataSets/chicagoBusRiders.csv\")"
   ]
  },
  {
   "cell_type": "code",
   "execution_count": 3,
   "id": "cfba89c3-3ea3-43b5-860c-99e834617449",
   "metadata": {},
   "outputs": [
    {
     "data": {
      "text/html": [
       "<div>\n",
       "<style scoped>\n",
       "    .dataframe tbody tr th:only-of-type {\n",
       "        vertical-align: middle;\n",
       "    }\n",
       "\n",
       "    .dataframe tbody tr th {\n",
       "        vertical-align: top;\n",
       "    }\n",
       "\n",
       "    .dataframe thead th {\n",
       "        text-align: right;\n",
       "    }\n",
       "</style>\n",
       "<table border=\"1\" class=\"dataframe\">\n",
       "  <thead>\n",
       "    <tr style=\"text-align: right;\">\n",
       "      <th></th>\n",
       "      <th>route</th>\n",
       "      <th>date</th>\n",
       "      <th>daytype</th>\n",
       "      <th>rides</th>\n",
       "    </tr>\n",
       "  </thead>\n",
       "  <tbody>\n",
       "    <tr>\n",
       "      <th>0</th>\n",
       "      <td>3</td>\n",
       "      <td>01/01/2001</td>\n",
       "      <td>U</td>\n",
       "      <td>7354</td>\n",
       "    </tr>\n",
       "    <tr>\n",
       "      <th>1</th>\n",
       "      <td>4</td>\n",
       "      <td>01/01/2001</td>\n",
       "      <td>U</td>\n",
       "      <td>9288</td>\n",
       "    </tr>\n",
       "    <tr>\n",
       "      <th>2</th>\n",
       "      <td>6</td>\n",
       "      <td>01/01/2001</td>\n",
       "      <td>U</td>\n",
       "      <td>6048</td>\n",
       "    </tr>\n",
       "    <tr>\n",
       "      <th>3</th>\n",
       "      <td>8</td>\n",
       "      <td>01/01/2001</td>\n",
       "      <td>U</td>\n",
       "      <td>6309</td>\n",
       "    </tr>\n",
       "    <tr>\n",
       "      <th>4</th>\n",
       "      <td>9</td>\n",
       "      <td>01/01/2001</td>\n",
       "      <td>U</td>\n",
       "      <td>11207</td>\n",
       "    </tr>\n",
       "  </tbody>\n",
       "</table>\n",
       "</div>"
      ],
      "text/plain": [
       "  route        date daytype  rides\n",
       "0     3  01/01/2001       U   7354\n",
       "1     4  01/01/2001       U   9288\n",
       "2     6  01/01/2001       U   6048\n",
       "3     8  01/01/2001       U   6309\n",
       "4     9  01/01/2001       U  11207"
      ]
     },
     "execution_count": 3,
     "metadata": {},
     "output_type": "execute_result"
    }
   ],
   "source": [
    "data.head()"
   ]
  },
  {
   "cell_type": "markdown",
   "id": "1e5b74f7-53cd-46c6-beca-b8579a2a855d",
   "metadata": {},
   "source": [
    "Now, looking at our `data.head()` values, we can see that there are several columns. `Prophet` wants data to be provided in two columns, named `ds` and `y`, respectively. `ds` should contain the timestamp, and `y` should contain the time series that we want to use.\n",
    "\n",
    "To fit our data to this structure, let's pick a single bus route, and then reshape our data:"
   ]
  },
  {
   "cell_type": "code",
   "execution_count": 4,
   "id": "915643b8-dd77-4dbb-a7b5-8ce8dc59ba81",
   "metadata": {},
   "outputs": [
    {
     "data": {
      "text/html": [
       "<div>\n",
       "<style scoped>\n",
       "    .dataframe tbody tr th:only-of-type {\n",
       "        vertical-align: middle;\n",
       "    }\n",
       "\n",
       "    .dataframe tbody tr th {\n",
       "        vertical-align: top;\n",
       "    }\n",
       "\n",
       "    .dataframe thead th {\n",
       "        text-align: right;\n",
       "    }\n",
       "</style>\n",
       "<table border=\"1\" class=\"dataframe\">\n",
       "  <thead>\n",
       "    <tr style=\"text-align: right;\">\n",
       "      <th></th>\n",
       "      <th>ds</th>\n",
       "      <th>y</th>\n",
       "    </tr>\n",
       "  </thead>\n",
       "  <tbody>\n",
       "    <tr>\n",
       "      <th>0</th>\n",
       "      <td>01/01/2001</td>\n",
       "      <td>7354</td>\n",
       "    </tr>\n",
       "    <tr>\n",
       "      <th>87</th>\n",
       "      <td>01/02/2001</td>\n",
       "      <td>16697</td>\n",
       "    </tr>\n",
       "    <tr>\n",
       "      <th>216</th>\n",
       "      <td>01/03/2001</td>\n",
       "      <td>18195</td>\n",
       "    </tr>\n",
       "    <tr>\n",
       "      <th>344</th>\n",
       "      <td>01/04/2001</td>\n",
       "      <td>19424</td>\n",
       "    </tr>\n",
       "    <tr>\n",
       "      <th>472</th>\n",
       "      <td>01/05/2001</td>\n",
       "      <td>21221</td>\n",
       "    </tr>\n",
       "  </tbody>\n",
       "</table>\n",
       "</div>"
      ],
      "text/plain": [
       "             ds      y\n",
       "0    01/01/2001   7354\n",
       "87   01/02/2001  16697\n",
       "216  01/03/2001  18195\n",
       "344  01/04/2001  19424\n",
       "472  01/05/2001  21221"
      ]
     },
     "execution_count": 4,
     "metadata": {},
     "output_type": "execute_result"
    }
   ],
   "source": [
    "data_p = data.loc[data['route']=='3', ['date', 'rides']]\n",
    "data_p.columns = ['ds', 'y']\n",
    "\n",
    "data_p.head()"
   ]
  },
  {
   "cell_type": "markdown",
   "id": "2a7c88df-913c-4997-ad6c-bb89323f93fd",
   "metadata": {},
   "source": [
    "At this point our data is ready to be used in a `Prophet` model."
   ]
  },
  {
   "cell_type": "code",
   "execution_count": 5,
   "id": "93041efc-6b7c-4837-8c85-59a4e9be1e5f",
   "metadata": {},
   "outputs": [
    {
     "name": "stderr",
     "output_type": "stream",
     "text": [
      "14:34:17 - cmdstanpy - INFO - Chain [1] start processing\n",
      "14:34:19 - cmdstanpy - INFO - Chain [1] done processing\n"
     ]
    },
    {
     "data": {
      "text/plain": [
       "<prophet.forecaster.Prophet at 0x195512cabd0>"
      ]
     },
     "execution_count": 5,
     "metadata": {},
     "output_type": "execute_result"
    }
   ],
   "source": [
    "m = Prophet()\n",
    "m.fit(data_p)"
   ]
  },
  {
   "cell_type": "markdown",
   "id": "3aa0024b-b610-45bf-82f8-d62015c0b9d3",
   "metadata": {},
   "source": [
    "First, we created a `Prophet` model object, and then we used its `fit` method to fit our model to the data for route 3. This fitted model can then be used to create forecasts through which we explore the various seasonal patterns that we might expect to observe on route 3 over time."
   ]
  },
  {
   "cell_type": "code",
   "execution_count": 6,
   "id": "b441367d-16ef-40d2-bbd0-8c37ec7b59db",
   "metadata": {},
   "outputs": [
    {
     "data": {
      "text/html": [
       "<div>\n",
       "<style scoped>\n",
       "    .dataframe tbody tr th:only-of-type {\n",
       "        vertical-align: middle;\n",
       "    }\n",
       "\n",
       "    .dataframe tbody tr th {\n",
       "        vertical-align: top;\n",
       "    }\n",
       "\n",
       "    .dataframe thead th {\n",
       "        text-align: right;\n",
       "    }\n",
       "</style>\n",
       "<table border=\"1\" class=\"dataframe\">\n",
       "  <thead>\n",
       "    <tr style=\"text-align: right;\">\n",
       "      <th></th>\n",
       "      <th>ds</th>\n",
       "      <th>trend</th>\n",
       "      <th>yhat_lower</th>\n",
       "      <th>yhat_upper</th>\n",
       "      <th>trend_lower</th>\n",
       "      <th>trend_upper</th>\n",
       "      <th>additive_terms</th>\n",
       "      <th>additive_terms_lower</th>\n",
       "      <th>additive_terms_upper</th>\n",
       "      <th>weekly</th>\n",
       "      <th>weekly_lower</th>\n",
       "      <th>weekly_upper</th>\n",
       "      <th>yearly</th>\n",
       "      <th>yearly_lower</th>\n",
       "      <th>yearly_upper</th>\n",
       "      <th>multiplicative_terms</th>\n",
       "      <th>multiplicative_terms_lower</th>\n",
       "      <th>multiplicative_terms_upper</th>\n",
       "      <th>yhat</th>\n",
       "    </tr>\n",
       "  </thead>\n",
       "  <tbody>\n",
       "    <tr>\n",
       "      <th>0</th>\n",
       "      <td>2001-01-01</td>\n",
       "      <td>19217.447760</td>\n",
       "      <td>13074.658575</td>\n",
       "      <td>19022.944522</td>\n",
       "      <td>19217.447760</td>\n",
       "      <td>19217.447760</td>\n",
       "      <td>-3035.340182</td>\n",
       "      <td>-3035.340182</td>\n",
       "      <td>-3035.340182</td>\n",
       "      <td>1451.917361</td>\n",
       "      <td>1451.917361</td>\n",
       "      <td>1451.917361</td>\n",
       "      <td>-4487.257543</td>\n",
       "      <td>-4487.257543</td>\n",
       "      <td>-4487.257543</td>\n",
       "      <td>0.0</td>\n",
       "      <td>0.0</td>\n",
       "      <td>0.0</td>\n",
       "      <td>16182.107578</td>\n",
       "    </tr>\n",
       "    <tr>\n",
       "      <th>1</th>\n",
       "      <td>2001-01-02</td>\n",
       "      <td>19218.016024</td>\n",
       "      <td>14860.260189</td>\n",
       "      <td>20527.374688</td>\n",
       "      <td>19218.016024</td>\n",
       "      <td>19218.016024</td>\n",
       "      <td>-1567.573651</td>\n",
       "      <td>-1567.573651</td>\n",
       "      <td>-1567.573651</td>\n",
       "      <td>2832.429275</td>\n",
       "      <td>2832.429275</td>\n",
       "      <td>2832.429275</td>\n",
       "      <td>-4400.002925</td>\n",
       "      <td>-4400.002925</td>\n",
       "      <td>-4400.002925</td>\n",
       "      <td>0.0</td>\n",
       "      <td>0.0</td>\n",
       "      <td>0.0</td>\n",
       "      <td>17650.442374</td>\n",
       "    </tr>\n",
       "    <tr>\n",
       "      <th>2</th>\n",
       "      <td>2001-01-03</td>\n",
       "      <td>19218.584289</td>\n",
       "      <td>14510.848919</td>\n",
       "      <td>20529.686300</td>\n",
       "      <td>19218.584289</td>\n",
       "      <td>19218.584289</td>\n",
       "      <td>-1550.462701</td>\n",
       "      <td>-1550.462701</td>\n",
       "      <td>-1550.462701</td>\n",
       "      <td>2729.382262</td>\n",
       "      <td>2729.382262</td>\n",
       "      <td>2729.382262</td>\n",
       "      <td>-4279.844963</td>\n",
       "      <td>-4279.844963</td>\n",
       "      <td>-4279.844963</td>\n",
       "      <td>0.0</td>\n",
       "      <td>0.0</td>\n",
       "      <td>0.0</td>\n",
       "      <td>17668.121588</td>\n",
       "    </tr>\n",
       "    <tr>\n",
       "      <th>3</th>\n",
       "      <td>2001-01-04</td>\n",
       "      <td>19219.152553</td>\n",
       "      <td>14515.999784</td>\n",
       "      <td>20688.163330</td>\n",
       "      <td>19219.152553</td>\n",
       "      <td>19219.152553</td>\n",
       "      <td>-1758.234482</td>\n",
       "      <td>-1758.234482</td>\n",
       "      <td>-1758.234482</td>\n",
       "      <td>2371.290928</td>\n",
       "      <td>2371.290928</td>\n",
       "      <td>2371.290928</td>\n",
       "      <td>-4129.525410</td>\n",
       "      <td>-4129.525410</td>\n",
       "      <td>-4129.525410</td>\n",
       "      <td>0.0</td>\n",
       "      <td>0.0</td>\n",
       "      <td>0.0</td>\n",
       "      <td>17460.918071</td>\n",
       "    </tr>\n",
       "    <tr>\n",
       "      <th>4</th>\n",
       "      <td>2001-01-05</td>\n",
       "      <td>19219.720818</td>\n",
       "      <td>14842.911804</td>\n",
       "      <td>20938.960302</td>\n",
       "      <td>19219.720818</td>\n",
       "      <td>19219.720818</td>\n",
       "      <td>-1183.814677</td>\n",
       "      <td>-1183.814677</td>\n",
       "      <td>-1183.814677</td>\n",
       "      <td>2768.477918</td>\n",
       "      <td>2768.477918</td>\n",
       "      <td>2768.477918</td>\n",
       "      <td>-3952.292595</td>\n",
       "      <td>-3952.292595</td>\n",
       "      <td>-3952.292595</td>\n",
       "      <td>0.0</td>\n",
       "      <td>0.0</td>\n",
       "      <td>0.0</td>\n",
       "      <td>18035.906141</td>\n",
       "    </tr>\n",
       "  </tbody>\n",
       "</table>\n",
       "</div>"
      ],
      "text/plain": [
       "          ds         trend    yhat_lower    yhat_upper   trend_lower  \\\n",
       "0 2001-01-01  19217.447760  13074.658575  19022.944522  19217.447760   \n",
       "1 2001-01-02  19218.016024  14860.260189  20527.374688  19218.016024   \n",
       "2 2001-01-03  19218.584289  14510.848919  20529.686300  19218.584289   \n",
       "3 2001-01-04  19219.152553  14515.999784  20688.163330  19219.152553   \n",
       "4 2001-01-05  19219.720818  14842.911804  20938.960302  19219.720818   \n",
       "\n",
       "    trend_upper  additive_terms  additive_terms_lower  additive_terms_upper  \\\n",
       "0  19217.447760    -3035.340182          -3035.340182          -3035.340182   \n",
       "1  19218.016024    -1567.573651          -1567.573651          -1567.573651   \n",
       "2  19218.584289    -1550.462701          -1550.462701          -1550.462701   \n",
       "3  19219.152553    -1758.234482          -1758.234482          -1758.234482   \n",
       "4  19219.720818    -1183.814677          -1183.814677          -1183.814677   \n",
       "\n",
       "        weekly  weekly_lower  weekly_upper       yearly  yearly_lower  \\\n",
       "0  1451.917361   1451.917361   1451.917361 -4487.257543  -4487.257543   \n",
       "1  2832.429275   2832.429275   2832.429275 -4400.002925  -4400.002925   \n",
       "2  2729.382262   2729.382262   2729.382262 -4279.844963  -4279.844963   \n",
       "3  2371.290928   2371.290928   2371.290928 -4129.525410  -4129.525410   \n",
       "4  2768.477918   2768.477918   2768.477918 -3952.292595  -3952.292595   \n",
       "\n",
       "   yearly_upper  multiplicative_terms  multiplicative_terms_lower  \\\n",
       "0  -4487.257543                   0.0                         0.0   \n",
       "1  -4400.002925                   0.0                         0.0   \n",
       "2  -4279.844963                   0.0                         0.0   \n",
       "3  -4129.525410                   0.0                         0.0   \n",
       "4  -3952.292595                   0.0                         0.0   \n",
       "\n",
       "   multiplicative_terms_upper          yhat  \n",
       "0                         0.0  16182.107578  \n",
       "1                         0.0  17650.442374  \n",
       "2                         0.0  17668.121588  \n",
       "3                         0.0  17460.918071  \n",
       "4                         0.0  18035.906141  "
      ]
     },
     "execution_count": 6,
     "metadata": {},
     "output_type": "execute_result"
    }
   ],
   "source": [
    "# Create an empty dataframe with dates for future periods\n",
    "future = m.make_future_dataframe(periods=365)\n",
    "# Fill in dataframe wtih forecasts of `y` for the future periods\n",
    "forecast = m.predict(future)\n",
    "\n",
    "forecast.head()"
   ]
  },
  {
   "cell_type": "code",
   "execution_count": 7,
   "id": "01ee01b1-f46f-4921-830b-091126124184",
   "metadata": {},
   "outputs": [
    {
     "name": "stderr",
     "output_type": "stream",
     "text": [
      "C:\\Users\\prabh\\AppData\\Local\\Temp\\ipykernel_2992\\279601209.py:3: UserWarning: FigureCanvasAgg is non-interactive, and thus cannot be shown\n",
      "  fig.show()\n"
     ]
    },
    {
     "data": {
      "image/png": "[encoded data removed]",
      "text/plain": [
       "<Figure size 1000x600 with 1 Axes>"
      ]
     },
     "metadata": {},
     "output_type": "display_data"
    }
   ],
   "source": [
    "# Plot our model together with the forecast\n",
    "fig = m.plot(forecast)\n",
    "fig.show()"
   ]
  },
  {
   "cell_type": "code",
   "execution_count": 8,
   "id": "48a4efc1-e7eb-451a-ac14-5bcee3381128",
   "metadata": {},
   "outputs": [
    {
     "name": "stderr",
     "output_type": "stream",
     "text": [
      "C:\\Users\\prabh\\AppData\\Local\\Temp\\ipykernel_2992\\38927073.py:3: UserWarning: FigureCanvasAgg is non-interactive, and thus cannot be shown\n",
      "  fig.show()\n"
     ]
    },
    {
     "data": {
      "image/png": "[encoded data removed]",
      "text/plain": [
       "<Figure size 900x900 with 3 Axes>"
      ]
     },
     "metadata": {},
     "output_type": "display_data"
    }
   ],
   "source": [
    "# Plot the components of the forecast\n",
    "fig = m.plot_components(forecast)\n",
    "fig.show()"
   ]
  },
  {
   "cell_type": "markdown",
   "id": "57c37a96-1cd4-406d-b2ea-db7562aec397",
   "metadata": {},
   "source": [
    "Using these figures, we can explore how our model performs in-sample, what projections look like for future periods, and how different types of cyclicality or seasonality apply to our current model. If we want to explore the raw forecast numbers for our model, we can just use our `forecast` DataFrame to extract that information:"
   ]
  },
  {
   "cell_type": "code",
   "execution_count": 9,
   "id": "514fce6c-23e4-40c6-b86e-148474eda5fb",
   "metadata": {},
   "outputs": [
    {
     "data": {
      "text/html": [
       "<div>\n",
       "<style scoped>\n",
       "    .dataframe tbody tr th:only-of-type {\n",
       "        vertical-align: middle;\n",
       "    }\n",
       "\n",
       "    .dataframe tbody tr th {\n",
       "        vertical-align: top;\n",
       "    }\n",
       "\n",
       "    .dataframe thead th {\n",
       "        text-align: right;\n",
       "    }\n",
       "</style>\n",
       "<table border=\"1\" class=\"dataframe\">\n",
       "  <thead>\n",
       "    <tr style=\"text-align: right;\">\n",
       "      <th></th>\n",
       "      <th>ds</th>\n",
       "      <th>yhat</th>\n",
       "    </tr>\n",
       "  </thead>\n",
       "  <tbody>\n",
       "    <tr>\n",
       "      <th>0</th>\n",
       "      <td>2001-01-01</td>\n",
       "      <td>16182.107578</td>\n",
       "    </tr>\n",
       "    <tr>\n",
       "      <th>1</th>\n",
       "      <td>2001-01-02</td>\n",
       "      <td>17650.442374</td>\n",
       "    </tr>\n",
       "    <tr>\n",
       "      <th>2</th>\n",
       "      <td>2001-01-03</td>\n",
       "      <td>17668.121588</td>\n",
       "    </tr>\n",
       "    <tr>\n",
       "      <th>3</th>\n",
       "      <td>2001-01-04</td>\n",
       "      <td>17460.918071</td>\n",
       "    </tr>\n",
       "    <tr>\n",
       "      <th>4</th>\n",
       "      <td>2001-01-05</td>\n",
       "      <td>18035.906141</td>\n",
       "    </tr>\n",
       "  </tbody>\n",
       "</table>\n",
       "</div>"
      ],
      "text/plain": [
       "          ds          yhat\n",
       "0 2001-01-01  16182.107578\n",
       "1 2001-01-02  17650.442374\n",
       "2 2001-01-03  17668.121588\n",
       "3 2001-01-04  17460.918071\n",
       "4 2001-01-05  18035.906141"
      ]
     },
     "execution_count": 9,
     "metadata": {},
     "output_type": "execute_result"
    }
   ],
   "source": [
    "forecast[['ds','yhat']].head()"
   ]
  },
  {
   "cell_type": "markdown",
   "id": "9e7e356b-bd0f-44d5-a103-f8f3d684a20b",
   "metadata": {
    "tags": []
   },
   "source": [
    "While useful for time series data, `Prophet` lacks the kind of flexibility that would allow us to easily incorporate both time series and exogenous factors into our model. Let's look at a more flexible implementation of the GAM model.\n",
    "\n",
    "## `pyGAM`'s alternative implementation\n",
    "\n",
    "My preferred GAM library is the `pyGAM` library. It allows for really neat and flexible solutions, using GAMs not only for time series analysis, but also for more general data analysis. Let's get an example going and take a look at why."
   ]
  },
  {
   "cell_type": "code",
   "execution_count": 17,
   "id": "253890c0-a9c6-4850-80c2-8ec0d5416e52",
   "metadata": {
    "tags": []
   },
   "outputs": [
    {
     "ename": "ImportError",
     "evalue": "cannot import name '_center' from 'numpy._core.umath' (c:\\Users\\prabh\\AppData\\Local\\Programs\\Python\\Python312\\Lib\\site-packages\\numpy\\_core\\umath.py)",
     "output_type": "error",
     "traceback": [
      "\u001b[1;31m---------------------------------------------------------------------------\u001b[0m",
      "\u001b[1;31mImportError\u001b[0m                               Traceback (most recent call last)",
      "Cell \u001b[1;32mIn[17], line 2\u001b[0m\n\u001b[0;32m      1\u001b[0m \u001b[38;5;66;03m# Import libraries/functions\u001b[39;00m\n\u001b[1;32m----> 2\u001b[0m \u001b[38;5;28;01mfrom\u001b[39;00m \u001b[38;5;21;01mpygam\u001b[39;00m \u001b[38;5;28;01mimport\u001b[39;00m LinearGAM, s, f, l\n\u001b[0;32m      3\u001b[0m \u001b[38;5;28;01mimport\u001b[39;00m \u001b[38;5;21;01mpandas\u001b[39;00m \u001b[38;5;28;01mas\u001b[39;00m \u001b[38;5;21;01mpd\u001b[39;00m\n\u001b[0;32m      5\u001b[0m \u001b[38;5;66;03m# Read in data, select route 3\u001b[39;00m\n",
      "File \u001b[1;32mc:\\Users\\prabh\\AppData\\Local\\Programs\\Python\\Python312\\Lib\\site-packages\\pygam\\__init__.py:6\u001b[0m\n\u001b[0;32m      1\u001b[0m \u001b[38;5;124;03m\"\"\"\u001b[39;00m\n\u001b[0;32m      2\u001b[0m \u001b[38;5;124;03mGAM toolkit\u001b[39;00m\n\u001b[0;32m      3\u001b[0m \u001b[38;5;124;03m\"\"\"\u001b[39;00m\n\u001b[0;32m      4\u001b[0m \u001b[38;5;28;01mfrom\u001b[39;00m \u001b[38;5;21;01mimportlib\u001b[39;00m\u001b[38;5;21;01m.\u001b[39;00m\u001b[38;5;21;01mmetadata\u001b[39;00m \u001b[38;5;28;01mimport\u001b[39;00m version, PackageNotFoundError\n\u001b[1;32m----> 6\u001b[0m \u001b[38;5;28;01mfrom\u001b[39;00m \u001b[38;5;21;01mpygam\u001b[39;00m\u001b[38;5;21;01m.\u001b[39;00m\u001b[38;5;21;01mpygam\u001b[39;00m \u001b[38;5;28;01mimport\u001b[39;00m GAM\n\u001b[0;32m      7\u001b[0m \u001b[38;5;28;01mfrom\u001b[39;00m \u001b[38;5;21;01mpygam\u001b[39;00m\u001b[38;5;21;01m.\u001b[39;00m\u001b[38;5;21;01mpygam\u001b[39;00m \u001b[38;5;28;01mimport\u001b[39;00m LinearGAM\n\u001b[0;32m      8\u001b[0m \u001b[38;5;28;01mfrom\u001b[39;00m \u001b[38;5;21;01mpygam\u001b[39;00m\u001b[38;5;21;01m.\u001b[39;00m\u001b[38;5;21;01mpygam\u001b[39;00m \u001b[38;5;28;01mimport\u001b[39;00m LogisticGAM\n",
      "File \u001b[1;32mc:\\Users\\prabh\\AppData\\Local\\Programs\\Python\\Python312\\Lib\\site-packages\\pygam\\pygam.py:10\u001b[0m\n\u001b[0;32m      8\u001b[0m \u001b[38;5;28;01mimport\u001b[39;00m \u001b[38;5;21;01mnumpy\u001b[39;00m \u001b[38;5;28;01mas\u001b[39;00m \u001b[38;5;21;01mnp\u001b[39;00m\n\u001b[0;32m      9\u001b[0m \u001b[38;5;28;01mimport\u001b[39;00m \u001b[38;5;21;01mscipy\u001b[39;00m \u001b[38;5;28;01mas\u001b[39;00m \u001b[38;5;21;01msp\u001b[39;00m\n\u001b[1;32m---> 10\u001b[0m \u001b[38;5;28;01mfrom\u001b[39;00m \u001b[38;5;21;01mscipy\u001b[39;00m \u001b[38;5;28;01mimport\u001b[39;00m stats  \u001b[38;5;66;03m# noqa: F401\u001b[39;00m\n\u001b[0;32m     12\u001b[0m \u001b[38;5;28;01mfrom\u001b[39;00m \u001b[38;5;21;01mpygam\u001b[39;00m\u001b[38;5;21;01m.\u001b[39;00m\u001b[38;5;21;01mcore\u001b[39;00m \u001b[38;5;28;01mimport\u001b[39;00m Core\n\u001b[0;32m     14\u001b[0m \u001b[38;5;28;01mfrom\u001b[39;00m \u001b[38;5;21;01mpygam\u001b[39;00m\u001b[38;5;21;01m.\u001b[39;00m\u001b[38;5;21;01mpenalties\u001b[39;00m \u001b[38;5;28;01mimport\u001b[39;00m derivative  \u001b[38;5;66;03m# noqa: F401\u001b[39;00m\n",
      "File \u001b[1;32mc:\\Users\\prabh\\AppData\\Local\\Programs\\Python\\Python312\\Lib\\site-packages\\scipy\\__init__.py:146\u001b[0m, in \u001b[0;36m__getattr__\u001b[1;34m(name)\u001b[0m\n\u001b[0;32m    144\u001b[0m \u001b[38;5;28;01mdef\u001b[39;00m \u001b[38;5;21m__getattr__\u001b[39m(name):\n\u001b[0;32m    145\u001b[0m     \u001b[38;5;28;01mif\u001b[39;00m name \u001b[38;5;129;01min\u001b[39;00m submodules:\n\u001b[1;32m--> 146\u001b[0m         \u001b[38;5;28;01mreturn\u001b[39;00m \u001b[43m_importlib\u001b[49m\u001b[38;5;241;43m.\u001b[39;49m\u001b[43mimport_module\u001b[49m\u001b[43m(\u001b[49m\u001b[38;5;124;43mf\u001b[39;49m\u001b[38;5;124;43m'\u001b[39;49m\u001b[38;5;124;43mscipy.\u001b[39;49m\u001b[38;5;132;43;01m{\u001b[39;49;00m\u001b[43mname\u001b[49m\u001b[38;5;132;43;01m}\u001b[39;49;00m\u001b[38;5;124;43m'\u001b[39;49m\u001b[43m)\u001b[49m\n\u001b[0;32m    147\u001b[0m     \u001b[38;5;28;01melse\u001b[39;00m:\n\u001b[0;32m    148\u001b[0m         \u001b[38;5;28;01mtry\u001b[39;00m:\n",
      "File \u001b[1;32mc:\\Users\\prabh\\AppData\\Local\\Programs\\Python\\Python312\\Lib\\importlib\\__init__.py:90\u001b[0m, in \u001b[0;36mimport_module\u001b[1;34m(name, package)\u001b[0m\n\u001b[0;32m     88\u001b[0m             \u001b[38;5;28;01mbreak\u001b[39;00m\n\u001b[0;32m     89\u001b[0m         level \u001b[38;5;241m+\u001b[39m\u001b[38;5;241m=\u001b[39m \u001b[38;5;241m1\u001b[39m\n\u001b[1;32m---> 90\u001b[0m \u001b[38;5;28;01mreturn\u001b[39;00m \u001b[43m_bootstrap\u001b[49m\u001b[38;5;241;43m.\u001b[39;49m\u001b[43m_gcd_import\u001b[49m\u001b[43m(\u001b[49m\u001b[43mname\u001b[49m\u001b[43m[\u001b[49m\u001b[43mlevel\u001b[49m\u001b[43m:\u001b[49m\u001b[43m]\u001b[49m\u001b[43m,\u001b[49m\u001b[43m \u001b[49m\u001b[43mpackage\u001b[49m\u001b[43m,\u001b[49m\u001b[43m \u001b[49m\u001b[43mlevel\u001b[49m\u001b[43m)\u001b[49m\n",
      "File \u001b[1;32mc:\\Users\\prabh\\AppData\\Local\\Programs\\Python\\Python312\\Lib\\site-packages\\scipy\\stats\\__init__.py:624\u001b[0m\n\u001b[0;32m      1\u001b[0m \u001b[38;5;124;03m\"\"\"\u001b[39;00m\n\u001b[0;32m      2\u001b[0m \u001b[38;5;124;03m.. _statsrefmanual:\u001b[39;00m\n\u001b[0;32m      3\u001b[0m \n\u001b[1;32m   (...)\u001b[0m\n\u001b[0;32m    619\u001b[0m \n\u001b[0;32m    620\u001b[0m \u001b[38;5;124;03m\"\"\"\u001b[39;00m  \u001b[38;5;66;03m# noqa: E501\u001b[39;00m\n\u001b[0;32m    622\u001b[0m \u001b[38;5;28;01mfrom\u001b[39;00m \u001b[38;5;21;01m.\u001b[39;00m\u001b[38;5;21;01m_warnings_errors\u001b[39;00m \u001b[38;5;28;01mimport\u001b[39;00m (ConstantInputWarning, NearConstantInputWarning,\n\u001b[0;32m    623\u001b[0m                                DegenerateDataWarning, FitError)\n\u001b[1;32m--> 624\u001b[0m \u001b[38;5;28;01mfrom\u001b[39;00m \u001b[38;5;21;01m.\u001b[39;00m\u001b[38;5;21;01m_stats_py\u001b[39;00m \u001b[38;5;28;01mimport\u001b[39;00m \u001b[38;5;241m*\u001b[39m\n\u001b[0;32m    625\u001b[0m \u001b[38;5;28;01mfrom\u001b[39;00m \u001b[38;5;21;01m.\u001b[39;00m\u001b[38;5;21;01m_variation\u001b[39;00m \u001b[38;5;28;01mimport\u001b[39;00m variation\n\u001b[0;32m    626\u001b[0m \u001b[38;5;28;01mfrom\u001b[39;00m \u001b[38;5;21;01m.\u001b[39;00m\u001b[38;5;21;01mdistributions\u001b[39;00m \u001b[38;5;28;01mimport\u001b[39;00m \u001b[38;5;241m*\u001b[39m\n",
      "File \u001b[1;32mc:\\Users\\prabh\\AppData\\Local\\Programs\\Python\\Python312\\Lib\\site-packages\\scipy\\stats\\_stats_py.py:38\u001b[0m\n\u001b[0;32m     35\u001b[0m \u001b[38;5;28;01mimport\u001b[39;00m \u001b[38;5;21;01mnumpy\u001b[39;00m \u001b[38;5;28;01mas\u001b[39;00m \u001b[38;5;21;01mnp\u001b[39;00m\n\u001b[0;32m     36\u001b[0m \u001b[38;5;28;01mfrom\u001b[39;00m \u001b[38;5;21;01mnumpy\u001b[39;00m \u001b[38;5;28;01mimport\u001b[39;00m array, asarray, ma\n\u001b[1;32m---> 38\u001b[0m \u001b[38;5;28;01mfrom\u001b[39;00m \u001b[38;5;21;01mscipy\u001b[39;00m \u001b[38;5;28;01mimport\u001b[39;00m sparse\n\u001b[0;32m     39\u001b[0m \u001b[38;5;28;01mfrom\u001b[39;00m \u001b[38;5;21;01mscipy\u001b[39;00m\u001b[38;5;21;01m.\u001b[39;00m\u001b[38;5;21;01mspatial\u001b[39;00m \u001b[38;5;28;01mimport\u001b[39;00m distance_matrix\n\u001b[0;32m     41\u001b[0m \u001b[38;5;28;01mfrom\u001b[39;00m \u001b[38;5;21;01mscipy\u001b[39;00m\u001b[38;5;21;01m.\u001b[39;00m\u001b[38;5;21;01moptimize\u001b[39;00m \u001b[38;5;28;01mimport\u001b[39;00m milp, LinearConstraint\n",
      "File \u001b[1;32mc:\\Users\\prabh\\AppData\\Local\\Programs\\Python\\Python312\\Lib\\site-packages\\scipy\\__init__.py:146\u001b[0m, in \u001b[0;36m__getattr__\u001b[1;34m(name)\u001b[0m\n\u001b[0;32m    144\u001b[0m \u001b[38;5;28;01mdef\u001b[39;00m \u001b[38;5;21m__getattr__\u001b[39m(name):\n\u001b[0;32m    145\u001b[0m     \u001b[38;5;28;01mif\u001b[39;00m name \u001b[38;5;129;01min\u001b[39;00m submodules:\n\u001b[1;32m--> 146\u001b[0m         \u001b[38;5;28;01mreturn\u001b[39;00m \u001b[43m_importlib\u001b[49m\u001b[38;5;241;43m.\u001b[39;49m\u001b[43mimport_module\u001b[49m\u001b[43m(\u001b[49m\u001b[38;5;124;43mf\u001b[39;49m\u001b[38;5;124;43m'\u001b[39;49m\u001b[38;5;124;43mscipy.\u001b[39;49m\u001b[38;5;132;43;01m{\u001b[39;49;00m\u001b[43mname\u001b[49m\u001b[38;5;132;43;01m}\u001b[39;49;00m\u001b[38;5;124;43m'\u001b[39;49m\u001b[43m)\u001b[49m\n\u001b[0;32m    147\u001b[0m     \u001b[38;5;28;01melse\u001b[39;00m:\n\u001b[0;32m    148\u001b[0m         \u001b[38;5;28;01mtry\u001b[39;00m:\n",
      "File \u001b[1;32mc:\\Users\\prabh\\AppData\\Local\\Programs\\Python\\Python312\\Lib\\importlib\\__init__.py:90\u001b[0m, in \u001b[0;36mimport_module\u001b[1;34m(name, package)\u001b[0m\n\u001b[0;32m     88\u001b[0m             \u001b[38;5;28;01mbreak\u001b[39;00m\n\u001b[0;32m     89\u001b[0m         level \u001b[38;5;241m+\u001b[39m\u001b[38;5;241m=\u001b[39m \u001b[38;5;241m1\u001b[39m\n\u001b[1;32m---> 90\u001b[0m \u001b[38;5;28;01mreturn\u001b[39;00m \u001b[43m_bootstrap\u001b[49m\u001b[38;5;241;43m.\u001b[39;49m\u001b[43m_gcd_import\u001b[49m\u001b[43m(\u001b[49m\u001b[43mname\u001b[49m\u001b[43m[\u001b[49m\u001b[43mlevel\u001b[49m\u001b[43m:\u001b[49m\u001b[43m]\u001b[49m\u001b[43m,\u001b[49m\u001b[43m \u001b[49m\u001b[43mpackage\u001b[49m\u001b[43m,\u001b[49m\u001b[43m \u001b[49m\u001b[43mlevel\u001b[49m\u001b[43m)\u001b[49m\n",
      "File \u001b[1;32mc:\\Users\\prabh\\AppData\\Local\\Programs\\Python\\Python312\\Lib\\site-packages\\scipy\\sparse\\__init__.py:300\u001b[0m\n\u001b[0;32m    294\u001b[0m \u001b[38;5;66;03m# Original code by Travis Oliphant.\u001b[39;00m\n\u001b[0;32m    295\u001b[0m \u001b[38;5;66;03m# Modified and extended by Ed Schofield, Robert Cimrman,\u001b[39;00m\n\u001b[0;32m    296\u001b[0m \u001b[38;5;66;03m# Nathan Bell, and Jake Vanderplas.\u001b[39;00m\n\u001b[0;32m    298\u001b[0m \u001b[38;5;28;01mimport\u001b[39;00m \u001b[38;5;21;01mwarnings\u001b[39;00m \u001b[38;5;28;01mas\u001b[39;00m \u001b[38;5;21;01m_warnings\u001b[39;00m\n\u001b[1;32m--> 300\u001b[0m \u001b[38;5;28;01mfrom\u001b[39;00m \u001b[38;5;21;01m.\u001b[39;00m\u001b[38;5;21;01m_base\u001b[39;00m \u001b[38;5;28;01mimport\u001b[39;00m \u001b[38;5;241m*\u001b[39m\n\u001b[0;32m    301\u001b[0m \u001b[38;5;28;01mfrom\u001b[39;00m \u001b[38;5;21;01m.\u001b[39;00m\u001b[38;5;21;01m_csr\u001b[39;00m \u001b[38;5;28;01mimport\u001b[39;00m \u001b[38;5;241m*\u001b[39m\n\u001b[0;32m    302\u001b[0m \u001b[38;5;28;01mfrom\u001b[39;00m \u001b[38;5;21;01m.\u001b[39;00m\u001b[38;5;21;01m_csc\u001b[39;00m \u001b[38;5;28;01mimport\u001b[39;00m \u001b[38;5;241m*\u001b[39m\n",
      "File \u001b[1;32mc:\\Users\\prabh\\AppData\\Local\\Programs\\Python\\Python312\\Lib\\site-packages\\scipy\\sparse\\_base.py:5\u001b[0m\n\u001b[0;32m      1\u001b[0m \u001b[38;5;124;03m\"\"\"Base class for sparse matrices\"\"\"\u001b[39;00m\n\u001b[0;32m      3\u001b[0m \u001b[38;5;28;01mimport\u001b[39;00m \u001b[38;5;21;01mnumpy\u001b[39;00m \u001b[38;5;28;01mas\u001b[39;00m \u001b[38;5;21;01mnp\u001b[39;00m\n\u001b[1;32m----> 5\u001b[0m \u001b[38;5;28;01mfrom\u001b[39;00m \u001b[38;5;21;01m.\u001b[39;00m\u001b[38;5;21;01m_sputils\u001b[39;00m \u001b[38;5;28;01mimport\u001b[39;00m (asmatrix, check_reshape_kwargs, check_shape,\n\u001b[0;32m      6\u001b[0m                        get_sum_dtype, isdense, isscalarlike,\n\u001b[0;32m      7\u001b[0m                        matrix, validateaxis, getdtype)\n\u001b[0;32m      9\u001b[0m \u001b[38;5;28;01mfrom\u001b[39;00m \u001b[38;5;21;01m.\u001b[39;00m\u001b[38;5;21;01m_matrix\u001b[39;00m \u001b[38;5;28;01mimport\u001b[39;00m spmatrix\n\u001b[0;32m     11\u001b[0m __all__ \u001b[38;5;241m=\u001b[39m [\u001b[38;5;124m'\u001b[39m\u001b[38;5;124misspmatrix\u001b[39m\u001b[38;5;124m'\u001b[39m, \u001b[38;5;124m'\u001b[39m\u001b[38;5;124missparse\u001b[39m\u001b[38;5;124m'\u001b[39m, \u001b[38;5;124m'\u001b[39m\u001b[38;5;124msparray\u001b[39m\u001b[38;5;124m'\u001b[39m,\n\u001b[0;32m     12\u001b[0m            \u001b[38;5;124m'\u001b[39m\u001b[38;5;124mSparseWarning\u001b[39m\u001b[38;5;124m'\u001b[39m, \u001b[38;5;124m'\u001b[39m\u001b[38;5;124mSparseEfficiencyWarning\u001b[39m\u001b[38;5;124m'\u001b[39m]\n",
      "File \u001b[1;32mc:\\Users\\prabh\\AppData\\Local\\Programs\\Python\\Python312\\Lib\\site-packages\\scipy\\sparse\\_sputils.py:10\u001b[0m\n\u001b[0;32m      8\u001b[0m \u001b[38;5;28;01mfrom\u001b[39;00m \u001b[38;5;21;01mmath\u001b[39;00m \u001b[38;5;28;01mimport\u001b[39;00m prod\n\u001b[0;32m      9\u001b[0m \u001b[38;5;28;01mimport\u001b[39;00m \u001b[38;5;21;01mscipy\u001b[39;00m\u001b[38;5;21;01m.\u001b[39;00m\u001b[38;5;21;01msparse\u001b[39;00m \u001b[38;5;28;01mas\u001b[39;00m \u001b[38;5;21;01msp\u001b[39;00m\n\u001b[1;32m---> 10\u001b[0m \u001b[38;5;28;01mfrom\u001b[39;00m \u001b[38;5;21;01mscipy\u001b[39;00m\u001b[38;5;21;01m.\u001b[39;00m\u001b[38;5;21;01m_lib\u001b[39;00m\u001b[38;5;21;01m.\u001b[39;00m\u001b[38;5;21;01m_util\u001b[39;00m \u001b[38;5;28;01mimport\u001b[39;00m np_long, np_ulong\n\u001b[0;32m     13\u001b[0m __all__ \u001b[38;5;241m=\u001b[39m [\u001b[38;5;124m'\u001b[39m\u001b[38;5;124mupcast\u001b[39m\u001b[38;5;124m'\u001b[39m, \u001b[38;5;124m'\u001b[39m\u001b[38;5;124mgetdtype\u001b[39m\u001b[38;5;124m'\u001b[39m, \u001b[38;5;124m'\u001b[39m\u001b[38;5;124mgetdata\u001b[39m\u001b[38;5;124m'\u001b[39m, \u001b[38;5;124m'\u001b[39m\u001b[38;5;124misscalarlike\u001b[39m\u001b[38;5;124m'\u001b[39m, \u001b[38;5;124m'\u001b[39m\u001b[38;5;124misintlike\u001b[39m\u001b[38;5;124m'\u001b[39m,\n\u001b[0;32m     14\u001b[0m            \u001b[38;5;124m'\u001b[39m\u001b[38;5;124misshape\u001b[39m\u001b[38;5;124m'\u001b[39m, \u001b[38;5;124m'\u001b[39m\u001b[38;5;124missequence\u001b[39m\u001b[38;5;124m'\u001b[39m, \u001b[38;5;124m'\u001b[39m\u001b[38;5;124misdense\u001b[39m\u001b[38;5;124m'\u001b[39m, \u001b[38;5;124m'\u001b[39m\u001b[38;5;124mismatrix\u001b[39m\u001b[38;5;124m'\u001b[39m, \u001b[38;5;124m'\u001b[39m\u001b[38;5;124mget_sum_dtype\u001b[39m\u001b[38;5;124m'\u001b[39m,\n\u001b[0;32m     15\u001b[0m            \u001b[38;5;124m'\u001b[39m\u001b[38;5;124mbroadcast_shapes\u001b[39m\u001b[38;5;124m'\u001b[39m]\n\u001b[0;32m     17\u001b[0m supported_dtypes \u001b[38;5;241m=\u001b[39m [np\u001b[38;5;241m.\u001b[39mbool_, np\u001b[38;5;241m.\u001b[39mbyte, np\u001b[38;5;241m.\u001b[39mubyte, np\u001b[38;5;241m.\u001b[39mshort, np\u001b[38;5;241m.\u001b[39mushort, np\u001b[38;5;241m.\u001b[39mintc,\n\u001b[0;32m     18\u001b[0m                     np\u001b[38;5;241m.\u001b[39muintc, np_long, np_ulong, np\u001b[38;5;241m.\u001b[39mlonglong, np\u001b[38;5;241m.\u001b[39mulonglong,\n\u001b[0;32m     19\u001b[0m                     np\u001b[38;5;241m.\u001b[39mfloat32, np\u001b[38;5;241m.\u001b[39mfloat64, np\u001b[38;5;241m.\u001b[39mlongdouble,\n\u001b[0;32m     20\u001b[0m                     np\u001b[38;5;241m.\u001b[39mcomplex64, np\u001b[38;5;241m.\u001b[39mcomplex128, np\u001b[38;5;241m.\u001b[39mclongdouble]\n",
      "File \u001b[1;32mc:\\Users\\prabh\\AppData\\Local\\Programs\\Python\\Python312\\Lib\\site-packages\\scipy\\_lib\\_util.py:13\u001b[0m\n\u001b[0;32m     10\u001b[0m \u001b[38;5;28;01mfrom\u001b[39;00m \u001b[38;5;21;01mtyping\u001b[39;00m \u001b[38;5;28;01mimport\u001b[39;00m TypeAlias, TypeVar\n\u001b[0;32m     12\u001b[0m \u001b[38;5;28;01mimport\u001b[39;00m \u001b[38;5;21;01mnumpy\u001b[39;00m \u001b[38;5;28;01mas\u001b[39;00m \u001b[38;5;21;01mnp\u001b[39;00m\n\u001b[1;32m---> 13\u001b[0m \u001b[38;5;28;01mfrom\u001b[39;00m \u001b[38;5;21;01mscipy\u001b[39;00m\u001b[38;5;21;01m.\u001b[39;00m\u001b[38;5;21;01m_lib\u001b[39;00m\u001b[38;5;21;01m.\u001b[39;00m\u001b[38;5;21;01m_array_api\u001b[39;00m \u001b[38;5;28;01mimport\u001b[39;00m array_namespace, is_numpy, xp_size\n\u001b[0;32m     14\u001b[0m \u001b[38;5;28;01mfrom\u001b[39;00m \u001b[38;5;21;01mscipy\u001b[39;00m\u001b[38;5;21;01m.\u001b[39;00m\u001b[38;5;21;01m_lib\u001b[39;00m\u001b[38;5;21;01m.\u001b[39;00m\u001b[38;5;21;01m_docscrape\u001b[39;00m \u001b[38;5;28;01mimport\u001b[39;00m FunctionDoc, Parameter\n\u001b[0;32m     17\u001b[0m AxisError: \u001b[38;5;28mtype\u001b[39m[\u001b[38;5;167;01mException\u001b[39;00m]\n",
      "File \u001b[1;32mc:\\Users\\prabh\\AppData\\Local\\Programs\\Python\\Python312\\Lib\\site-packages\\scipy\\_lib\\_array_api.py:18\u001b[0m\n\u001b[0;32m     15\u001b[0m \u001b[38;5;28;01mimport\u001b[39;00m \u001b[38;5;21;01mnumpy\u001b[39;00m\u001b[38;5;21;01m.\u001b[39;00m\u001b[38;5;21;01mtyping\u001b[39;00m \u001b[38;5;28;01mas\u001b[39;00m \u001b[38;5;21;01mnpt\u001b[39;00m\n\u001b[0;32m     17\u001b[0m \u001b[38;5;28;01mfrom\u001b[39;00m \u001b[38;5;21;01mscipy\u001b[39;00m\u001b[38;5;21;01m.\u001b[39;00m\u001b[38;5;21;01m_lib\u001b[39;00m \u001b[38;5;28;01mimport\u001b[39;00m array_api_compat\n\u001b[1;32m---> 18\u001b[0m \u001b[38;5;28;01mfrom\u001b[39;00m \u001b[38;5;21;01mscipy\u001b[39;00m\u001b[38;5;21;01m.\u001b[39;00m\u001b[38;5;21;01m_lib\u001b[39;00m\u001b[38;5;21;01m.\u001b[39;00m\u001b[38;5;21;01marray_api_compat\u001b[39;00m \u001b[38;5;28;01mimport\u001b[39;00m (\n\u001b[0;32m     19\u001b[0m     is_array_api_obj,\n\u001b[0;32m     20\u001b[0m     size \u001b[38;5;28;01mas\u001b[39;00m xp_size,\n\u001b[0;32m     21\u001b[0m     numpy \u001b[38;5;28;01mas\u001b[39;00m np_compat,\n\u001b[0;32m     22\u001b[0m     device \u001b[38;5;28;01mas\u001b[39;00m xp_device,\n\u001b[0;32m     23\u001b[0m     is_numpy_namespace \u001b[38;5;28;01mas\u001b[39;00m is_numpy,\n\u001b[0;32m     24\u001b[0m     is_cupy_namespace \u001b[38;5;28;01mas\u001b[39;00m is_cupy,\n\u001b[0;32m     25\u001b[0m     is_torch_namespace \u001b[38;5;28;01mas\u001b[39;00m is_torch,\n\u001b[0;32m     26\u001b[0m     is_jax_namespace \u001b[38;5;28;01mas\u001b[39;00m is_jax,\n\u001b[0;32m     27\u001b[0m     is_array_api_strict_namespace \u001b[38;5;28;01mas\u001b[39;00m is_array_api_strict\n\u001b[0;32m     28\u001b[0m )\n\u001b[0;32m     30\u001b[0m __all__ \u001b[38;5;241m=\u001b[39m [\n\u001b[0;32m     31\u001b[0m     \u001b[38;5;124m'\u001b[39m\u001b[38;5;124m_asarray\u001b[39m\u001b[38;5;124m'\u001b[39m, \u001b[38;5;124m'\u001b[39m\u001b[38;5;124marray_namespace\u001b[39m\u001b[38;5;124m'\u001b[39m, \u001b[38;5;124m'\u001b[39m\u001b[38;5;124massert_almost_equal\u001b[39m\u001b[38;5;124m'\u001b[39m, \u001b[38;5;124m'\u001b[39m\u001b[38;5;124massert_array_almost_equal\u001b[39m\u001b[38;5;124m'\u001b[39m,\n\u001b[0;32m     32\u001b[0m     \u001b[38;5;124m'\u001b[39m\u001b[38;5;124mget_xp_devices\u001b[39m\u001b[38;5;124m'\u001b[39m,\n\u001b[1;32m   (...)\u001b[0m\n\u001b[0;32m     38\u001b[0m     \u001b[38;5;124m'\u001b[39m\u001b[38;5;124mxp_take_along_axis\u001b[39m\u001b[38;5;124m'\u001b[39m, \u001b[38;5;124m'\u001b[39m\u001b[38;5;124mxp_unsupported_param_msg\u001b[39m\u001b[38;5;124m'\u001b[39m, \u001b[38;5;124m'\u001b[39m\u001b[38;5;124mxp_vector_norm\u001b[39m\u001b[38;5;124m'\u001b[39m,\n\u001b[0;32m     39\u001b[0m ]\n\u001b[0;32m     42\u001b[0m \u001b[38;5;66;03m# To enable array API and strict array-like input validation\u001b[39;00m\n",
      "File \u001b[1;32mc:\\Users\\prabh\\AppData\\Local\\Programs\\Python\\Python312\\Lib\\site-packages\\scipy\\_lib\\array_api_compat\\numpy\\__init__.py:1\u001b[0m\n\u001b[1;32m----> 1\u001b[0m \u001b[38;5;28;01mfrom\u001b[39;00m \u001b[38;5;21;01mnumpy\u001b[39;00m \u001b[38;5;28;01mimport\u001b[39;00m \u001b[38;5;241m*\u001b[39m \u001b[38;5;66;03m# noqa: F403\u001b[39;00m\n\u001b[0;32m      3\u001b[0m \u001b[38;5;66;03m# from numpy import * doesn't overwrite these builtin names\u001b[39;00m\n\u001b[0;32m      4\u001b[0m \u001b[38;5;28;01mfrom\u001b[39;00m \u001b[38;5;21;01mnumpy\u001b[39;00m \u001b[38;5;28;01mimport\u001b[39;00m \u001b[38;5;28mabs\u001b[39m, \u001b[38;5;28mmax\u001b[39m, \u001b[38;5;28mmin\u001b[39m, \u001b[38;5;28mround\u001b[39m \u001b[38;5;66;03m# noqa: F401\u001b[39;00m\n",
      "File \u001b[1;32mc:\\Users\\prabh\\AppData\\Local\\Programs\\Python\\Python312\\Lib\\site-packages\\numpy\\__init__.py:381\u001b[0m, in \u001b[0;36m__getattr__\u001b[1;34m(attr)\u001b[0m\n\u001b[0;32m    379\u001b[0m         \u001b[38;5;28;01mraise\u001b[39;00m \u001b[38;5;167;01mAssertionError\u001b[39;00m()\n\u001b[0;32m    380\u001b[0m \u001b[38;5;28;01mexcept\u001b[39;00m \u001b[38;5;167;01mAssertionError\u001b[39;00m:\n\u001b[1;32m--> 381\u001b[0m     msg \u001b[38;5;241m=\u001b[39m (\u001b[38;5;124m\"\u001b[39m\u001b[38;5;124mThe current Numpy installation (\u001b[39m\u001b[38;5;132;01m{!r}\u001b[39;00m\u001b[38;5;124m) fails to \u001b[39m\u001b[38;5;124m\"\u001b[39m\n\u001b[0;32m    382\u001b[0m            \u001b[38;5;124m\"\u001b[39m\u001b[38;5;124mpass simple sanity checks. This can be caused for example \u001b[39m\u001b[38;5;124m\"\u001b[39m\n\u001b[0;32m    383\u001b[0m            \u001b[38;5;124m\"\u001b[39m\u001b[38;5;124mby incorrect BLAS library being linked in, or by mixing \u001b[39m\u001b[38;5;124m\"\u001b[39m\n\u001b[0;32m    384\u001b[0m            \u001b[38;5;124m\"\u001b[39m\u001b[38;5;124mpackage managers (pip, conda, apt, ...). Search closed \u001b[39m\u001b[38;5;124m\"\u001b[39m\n\u001b[0;32m    385\u001b[0m            \u001b[38;5;124m\"\u001b[39m\u001b[38;5;124mnumpy issues for similar problems.\u001b[39m\u001b[38;5;124m\"\u001b[39m)\n\u001b[0;32m    386\u001b[0m     \u001b[38;5;28;01mraise\u001b[39;00m \u001b[38;5;167;01mRuntimeError\u001b[39;00m(msg\u001b[38;5;241m.\u001b[39mformat(\u001b[38;5;18m__file__\u001b[39m)) \u001b[38;5;28;01mfrom\u001b[39;00m \u001b[38;5;28;01mNone\u001b[39;00m\n",
      "File \u001b[1;32mc:\\Users\\prabh\\AppData\\Local\\Programs\\Python\\Python312\\Lib\\site-packages\\numpy\\char\\__init__.py:1\u001b[0m\n\u001b[1;32m----> 1\u001b[0m \u001b[38;5;28;01mfrom\u001b[39;00m \u001b[38;5;21;01mnumpy\u001b[39;00m\u001b[38;5;21;01m.\u001b[39;00m\u001b[38;5;21;01m_core\u001b[39;00m\u001b[38;5;21;01m.\u001b[39;00m\u001b[38;5;21;01mdefchararray\u001b[39;00m \u001b[38;5;28;01mimport\u001b[39;00m __all__, \u001b[38;5;18m__doc__\u001b[39m\n\u001b[0;32m      2\u001b[0m \u001b[38;5;28;01mfrom\u001b[39;00m \u001b[38;5;21;01mnumpy\u001b[39;00m\u001b[38;5;21;01m.\u001b[39;00m\u001b[38;5;21;01m_core\u001b[39;00m\u001b[38;5;21;01m.\u001b[39;00m\u001b[38;5;21;01mdefchararray\u001b[39;00m \u001b[38;5;28;01mimport\u001b[39;00m \u001b[38;5;241m*\u001b[39m\n",
      "File \u001b[1;32mc:\\Users\\prabh\\AppData\\Local\\Programs\\Python\\Python312\\Lib\\site-packages\\numpy\\_core\\defchararray.py:26\u001b[0m\n\u001b[0;32m     24\u001b[0m \u001b[38;5;28;01mfrom\u001b[39;00m \u001b[38;5;21;01mnumpy\u001b[39;00m\u001b[38;5;21;01m.\u001b[39;00m\u001b[38;5;21;01m_core\u001b[39;00m\u001b[38;5;21;01m.\u001b[39;00m\u001b[38;5;21;01mmultiarray\u001b[39;00m \u001b[38;5;28;01mimport\u001b[39;00m compare_chararrays\n\u001b[0;32m     25\u001b[0m \u001b[38;5;28;01mfrom\u001b[39;00m \u001b[38;5;21;01mnumpy\u001b[39;00m\u001b[38;5;21;01m.\u001b[39;00m\u001b[38;5;21;01m_core\u001b[39;00m \u001b[38;5;28;01mimport\u001b[39;00m overrides\n\u001b[1;32m---> 26\u001b[0m \u001b[38;5;28;01mfrom\u001b[39;00m \u001b[38;5;21;01mnumpy\u001b[39;00m\u001b[38;5;21;01m.\u001b[39;00m\u001b[38;5;21;01mstrings\u001b[39;00m \u001b[38;5;28;01mimport\u001b[39;00m \u001b[38;5;241m*\u001b[39m\n\u001b[0;32m     27\u001b[0m \u001b[38;5;28;01mfrom\u001b[39;00m \u001b[38;5;21;01mnumpy\u001b[39;00m\u001b[38;5;21;01m.\u001b[39;00m\u001b[38;5;21;01mstrings\u001b[39;00m \u001b[38;5;28;01mimport\u001b[39;00m (\n\u001b[0;32m     28\u001b[0m     multiply \u001b[38;5;28;01mas\u001b[39;00m strings_multiply,\n\u001b[0;32m     29\u001b[0m     partition \u001b[38;5;28;01mas\u001b[39;00m strings_partition,\n\u001b[0;32m     30\u001b[0m     rpartition \u001b[38;5;28;01mas\u001b[39;00m strings_rpartition,\n\u001b[0;32m     31\u001b[0m )\n\u001b[0;32m     32\u001b[0m \u001b[38;5;28;01mfrom\u001b[39;00m \u001b[38;5;21;01mnumpy\u001b[39;00m\u001b[38;5;21;01m.\u001b[39;00m\u001b[38;5;21;01m_core\u001b[39;00m\u001b[38;5;21;01m.\u001b[39;00m\u001b[38;5;21;01mstrings\u001b[39;00m \u001b[38;5;28;01mimport\u001b[39;00m (\n\u001b[0;32m     33\u001b[0m     _split \u001b[38;5;28;01mas\u001b[39;00m split,\n\u001b[0;32m     34\u001b[0m     _rsplit \u001b[38;5;28;01mas\u001b[39;00m rsplit,\n\u001b[0;32m     35\u001b[0m     _splitlines \u001b[38;5;28;01mas\u001b[39;00m splitlines,\n\u001b[0;32m     36\u001b[0m     _join \u001b[38;5;28;01mas\u001b[39;00m join,\n\u001b[0;32m     37\u001b[0m )\n",
      "File \u001b[1;32mc:\\Users\\prabh\\AppData\\Local\\Programs\\Python\\Python312\\Lib\\site-packages\\numpy\\strings\\__init__.py:1\u001b[0m\n\u001b[1;32m----> 1\u001b[0m \u001b[38;5;28;01mfrom\u001b[39;00m \u001b[38;5;21;01mnumpy\u001b[39;00m\u001b[38;5;21;01m.\u001b[39;00m\u001b[38;5;21;01m_core\u001b[39;00m\u001b[38;5;21;01m.\u001b[39;00m\u001b[38;5;21;01mstrings\u001b[39;00m \u001b[38;5;28;01mimport\u001b[39;00m __all__, \u001b[38;5;18m__doc__\u001b[39m\n\u001b[0;32m      2\u001b[0m \u001b[38;5;28;01mfrom\u001b[39;00m \u001b[38;5;21;01mnumpy\u001b[39;00m\u001b[38;5;21;01m.\u001b[39;00m\u001b[38;5;21;01m_core\u001b[39;00m\u001b[38;5;21;01m.\u001b[39;00m\u001b[38;5;21;01mstrings\u001b[39;00m \u001b[38;5;28;01mimport\u001b[39;00m \u001b[38;5;241m*\u001b[39m\n",
      "File \u001b[1;32mc:\\Users\\prabh\\AppData\\Local\\Programs\\Python\\Python312\\Lib\\site-packages\\numpy\\_core\\strings.py:14\u001b[0m\n\u001b[0;32m     12\u001b[0m \u001b[38;5;28;01mfrom\u001b[39;00m \u001b[38;5;21;01mnumpy\u001b[39;00m\u001b[38;5;21;01m.\u001b[39;00m\u001b[38;5;21;01m_core\u001b[39;00m\u001b[38;5;21;01m.\u001b[39;00m\u001b[38;5;21;01mmultiarray\u001b[39;00m \u001b[38;5;28;01mimport\u001b[39;00m _vec_string\n\u001b[0;32m     13\u001b[0m \u001b[38;5;28;01mfrom\u001b[39;00m \u001b[38;5;21;01mnumpy\u001b[39;00m\u001b[38;5;21;01m.\u001b[39;00m\u001b[38;5;21;01m_core\u001b[39;00m\u001b[38;5;21;01m.\u001b[39;00m\u001b[38;5;21;01moverrides\u001b[39;00m \u001b[38;5;28;01mimport\u001b[39;00m set_module\n\u001b[1;32m---> 14\u001b[0m \u001b[38;5;28;01mfrom\u001b[39;00m \u001b[38;5;21;01mnumpy\u001b[39;00m\u001b[38;5;21;01m.\u001b[39;00m\u001b[38;5;21;01m_core\u001b[39;00m\u001b[38;5;21;01m.\u001b[39;00m\u001b[38;5;21;01mumath\u001b[39;00m \u001b[38;5;28;01mimport\u001b[39;00m (\n\u001b[0;32m     15\u001b[0m     isalpha,\n\u001b[0;32m     16\u001b[0m     isdigit,\n\u001b[0;32m     17\u001b[0m     isspace,\n\u001b[0;32m     18\u001b[0m     isalnum,\n\u001b[0;32m     19\u001b[0m     islower,\n\u001b[0;32m     20\u001b[0m     isupper,\n\u001b[0;32m     21\u001b[0m     istitle,\n\u001b[0;32m     22\u001b[0m     isdecimal,\n\u001b[0;32m     23\u001b[0m     isnumeric,\n\u001b[0;32m     24\u001b[0m     str_len,\n\u001b[0;32m     25\u001b[0m     find \u001b[38;5;28;01mas\u001b[39;00m _find_ufunc,\n\u001b[0;32m     26\u001b[0m     rfind \u001b[38;5;28;01mas\u001b[39;00m _rfind_ufunc,\n\u001b[0;32m     27\u001b[0m     index \u001b[38;5;28;01mas\u001b[39;00m _index_ufunc,\n\u001b[0;32m     28\u001b[0m     rindex \u001b[38;5;28;01mas\u001b[39;00m _rindex_ufunc,\n\u001b[0;32m     29\u001b[0m     count \u001b[38;5;28;01mas\u001b[39;00m _count_ufunc,\n\u001b[0;32m     30\u001b[0m     startswith \u001b[38;5;28;01mas\u001b[39;00m _startswith_ufunc,\n\u001b[0;32m     31\u001b[0m     endswith \u001b[38;5;28;01mas\u001b[39;00m _endswith_ufunc,\n\u001b[0;32m     32\u001b[0m     _lstrip_whitespace,\n\u001b[0;32m     33\u001b[0m     _lstrip_chars,\n\u001b[0;32m     34\u001b[0m     _rstrip_whitespace,\n\u001b[0;32m     35\u001b[0m     _rstrip_chars,\n\u001b[0;32m     36\u001b[0m     _strip_whitespace,\n\u001b[0;32m     37\u001b[0m     _strip_chars,\n\u001b[0;32m     38\u001b[0m     _replace,\n\u001b[0;32m     39\u001b[0m     _expandtabs_length,\n\u001b[0;32m     40\u001b[0m     _expandtabs,\n\u001b[0;32m     41\u001b[0m     _center,\n\u001b[0;32m     42\u001b[0m     _ljust,\n\u001b[0;32m     43\u001b[0m     _rjust,\n\u001b[0;32m     44\u001b[0m     _zfill,\n\u001b[0;32m     45\u001b[0m     _partition,\n\u001b[0;32m     46\u001b[0m     _partition_index,\n\u001b[0;32m     47\u001b[0m     _rpartition,\n\u001b[0;32m     48\u001b[0m     _rpartition_index,\n\u001b[0;32m     49\u001b[0m )\n\u001b[0;32m     52\u001b[0m \u001b[38;5;28;01mdef\u001b[39;00m \u001b[38;5;21m_override___module__\u001b[39m():\n\u001b[0;32m     53\u001b[0m     \u001b[38;5;28;01mfor\u001b[39;00m ufunc \u001b[38;5;129;01min\u001b[39;00m [\n\u001b[0;32m     54\u001b[0m         isalnum, isalpha, isdecimal, isdigit, islower, isnumeric, isspace,\n\u001b[0;32m     55\u001b[0m         istitle, isupper, str_len,\n\u001b[0;32m     56\u001b[0m     ]:\n",
      "\u001b[1;31mImportError\u001b[0m: cannot import name '_center' from 'numpy._core.umath' (c:\\Users\\prabh\\AppData\\Local\\Programs\\Python\\Python312\\Lib\\site-packages\\numpy\\_core\\umath.py)"
     ]
    }
   ],
   "source": [
    "# Import libraries/functions\n",
    "from pygam import LinearGAM, s, f, l\n",
    "import pandas as pd\n",
    "\n",
    "# Read in data, select route 3\n",
    "data = pd.read_csv(\"https://github.com/dustywhite7/Econ8310/raw/master/DataSets/chicagoBusRiders.csv\")\n",
    "data_p = data.loc[data['route']=='3']\n",
    "data_p['date'] = pd.to_datetime(data_p['date'])\n",
    "data_p['year'] = data_p['date'].dt.year\n",
    "data_p['month'] = data_p['date'].dt.month\n",
    "data_p['day'] = data_p['date'].dt.weekday"
   ]
  },
  {
   "cell_type": "code",
   "execution_count": null,
   "id": "cdc2285e-44d0-4f71-8443-9f0e38b46391",
   "metadata": {
    "tags": []
   },
   "outputs": [],
   "source": [
    "data_p.head()"
   ]
  },
  {
   "cell_type": "code",
   "execution_count": null,
   "id": "41de3ddf-b051-4a7b-8b47-e2d64552193a",
   "metadata": {
    "tags": []
   },
   "outputs": [],
   "source": [
    "x = data_p[['year', 'month', 'day']]\n",
    "y = data_p['rides']"
   ]
  },
  {
   "cell_type": "markdown",
   "id": "2d52e2a2-4cb0-48f7-a4df-077101246c3d",
   "metadata": {
    "tags": []
   },
   "source": [
    "With `pyGAM`, we do need to do all of the data processing manually, so we are creating the parsed time data using `pandas`' built-in functions to create columns for year, month, and day of the week. Once we have our data processed, we can fit our model."
   ]
  },
  {
   "cell_type": "code",
   "execution_count": null,
   "id": "726e638b-ba65-4130-af5b-8e2406e9a434",
   "metadata": {
    "tags": []
   },
   "outputs": [],
   "source": [
    "gam = LinearGAM(s(0) + s(1) + f(2))\n",
    "gam = gam.gridsearch(x.values, y)"
   ]
  },
  {
   "cell_type": "markdown",
   "id": "9bf296df-4bdd-4671-9f16-b6a6412609dd",
   "metadata": {
    "tags": []
   },
   "source": [
    "There are a few things going on here. First, we need to create our actual GAM model. This is done by creating an instance of the `LinearGAM` class. The argument that we provide to this class is similar to a regression equation. What we need to provide are the **functional forms** of the parameters to be included in our model.\n",
    "\n",
    "When we imported `pyGAM`, we also imported `s`, `f`, and `l`. `s` stands for **spline**, and represents our most general functional form. Splines can be used to estimate functions of any shape, and so they are the key component of a GAM as enablers of highly flexible functional form.\n",
    "\n",
    "`f` creates a factor-based functional form, and is useful where data is encoded as numbers which are categorial (rather than ordinal) in nature. This allows us to see the different level effects of each encoded factor in the column.\n",
    "\n",
    "`l` creates a linear functional form. This can be useful where we expect the relationship between $x$ and $y$ by constraining the relationship to be linear rather than smooth. Remember that linear functional forms are by far the easiest to interpret, so we want to use them wherever they are representative of truth!\n",
    "\n",
    "In our case, we want to see the spline-based relationship between year and rides and month and rides, but days are better treated as factors. This means that the most effective \"regression equation\" is `s(0) + f(1) + f(2)`, with 0, 1, and 2 denoting the respective columns in our `x` data array.\n",
    "\n",
    "Now, let's make ourselves a nice plot of the results:"
   ]
  },
  {
   "cell_type": "markdown",
   "id": "d37626d0-2e6c-4e3f-a626-5ad41dd26958",
   "metadata": {
    "tags": []
   },
   "source": [
    "This looks a lot more complicated than `Prophet`, and it is! The added complexity is due to increased flexibility. That flexibility becomes apparent when we want to add more than the same factors that we could use in Prophet. Let's try to model something different and see what happens."
   ]
  },
  {
   "cell_type": "code",
   "execution_count": null,
   "id": "66cddc10-8083-4ea8-9dd6-0b9279f96ed3",
   "metadata": {
    "tags": []
   },
   "outputs": [],
   "source": [
    "data = pd.read_csv(\"https://github.com/dustywhite7/Econ8310/raw/master/DataSets/auto-mpg.csv\")"
   ]
  },
  {
   "cell_type": "code",
   "execution_count": null,
   "id": "22c8339a-cb06-4fd7-a112-d7f95d441c97",
   "metadata": {
    "tags": []
   },
   "outputs": [],
   "source": [
    "data.head()"
   ]
  },
  {
   "cell_type": "markdown",
   "id": "6fd7e15a-62f9-4a63-ab9f-b4d6e49b8b5a",
   "metadata": {
    "tags": []
   },
   "source": [
    "In this case, our model has nothing to do with time-series analysis, but we will still be able to create a nice GAM. We can also create GAMs that combine time series patterns as well as other types of factors using `pyGAM`, and can use more varied data types as we do so."
   ]
  },
  {
   "cell_type": "code",
   "execution_count": null,
   "id": "55e3a524-220d-4a66-9da3-c6c1e2c2762c",
   "metadata": {
    "tags": []
   },
   "outputs": [],
   "source": [
    "titles = ['modelYear', 'acceleration', 'weight', 'horsepower', 'displacement','cylinders']\n",
    "\n",
    "x = data[titles]\n",
    "y = data['mpg']\n",
    "\n",
    "# Creating a factor for cylinders since it is not continuous like the other information\n",
    "gam = LinearGAM(s(0) + s(1) + s(2) + s(3) + s(4) + s(5))\n",
    "gam = gam.gridsearch(x.values, y)\n",
    "\n",
    "# Create the subplots in a single-row grid\n",
    "fig = tools.make_subplots(rows=2, cols=3, subplot_titles=titles)\n",
    "# Dictate the size of the figure, title, etc.\n",
    "fig['layout'].update(height=500, width=1000, title='pyGAM', showlegend=False)\n",
    "\n",
    "# Loop over the titles, and create the corresponding figures\n",
    "for i, title in enumerate(titles):\n",
    "    # Create the grid over which to estimate the effect of parameters\n",
    "    XX = gam.generate_X_grid(term=i)\n",
    "    # Calculate the value and 95% confidence intervals for each parameter\n",
    "    # This will become the expected effect on the dependent variable for a given value of x\n",
    "    pdep, confi = gam.partial_dependence(term=i, width=.95)\n",
    "    \n",
    "    # Create the effect and confidence interval traces (there are 3 total)\n",
    "    trace = go.Scatter(x=XX[:,i], y=pdep, mode='lines', name='Effect')\n",
    "    ci1 = go.Scatter(x = XX[:,i], y=confi[:,0], line=dict(dash='dash', color='grey'), name='95% CI')\n",
    "    ci2 = go.Scatter(x = XX[:,i], y=confi[:,1], line=dict(dash='dash', color='grey'), name='95% CI')\n",
    "\n",
    "    if i<3:\n",
    "        fig.append_trace(trace, 1, i+1)\n",
    "        fig.append_trace(ci1, 1, i+1)\n",
    "        fig.append_trace(ci2, 1, i+1)\n",
    "    else:\n",
    "        fig.append_trace(trace, 2, i-2)\n",
    "        fig.append_trace(ci1, 2, i-2)\n",
    "        fig.append_trace(ci2, 2, i-2)\n",
    "\n",
    "#Plot the figure\n",
    "py.iplot(fig)"
   ]
  },
  {
   "cell_type": "markdown",
   "id": "af1443f1-c1b9-4d55-abc3-f6b597f602e2",
   "metadata": {
    "tags": []
   },
   "source": [
    "Even though it took some effort to set up the original model, now that we have template code, we can quickly adapt it to pretty much any data, and get some really interesting figures back. These figures are the basis for our ability to interpret GAMs. The biggest reason for visualization is the power it has to translate our data to intuitive results for non-experts.\n",
    "\n",
    "We can, of course, also create forecasts using our `pyGAM` models:"
   ]
  },
  {
   "cell_type": "code",
   "execution_count": null,
   "id": "32c9be16-0483-452b-a45d-ec0a7f4912e2",
   "metadata": {
    "tags": []
   },
   "outputs": [],
   "source": [
    "pred = gam.predict(data.loc[3, titles].values.reshape(1,6))\n",
    "\n",
    "print(\"Truth was {0:.2f}, prediction was {1:.2f}, the model was off by {2:.2f}.\".format(data.loc[3,'mpg'], float(pred), data.loc[3,'mpg']-float(pred)))`"
   ]
  },
  {
   "cell_type": "markdown",
   "id": "b2427a85-9079-479e-9009-723e4bf9eae0",
   "metadata": {},
   "source": [
    "**Reading Reflection**\n",
    "\n",
    "Which of the two GAM libraries do you think will be more useful to you? Describe a situation in which you could use GAM, and why the library you picked would be preferable in that context. Submit on Canvas."
   ]
  },
  {
   "cell_type": "code",
   "execution_count": 2,
   "id": "3dfdfb4d",
   "metadata": {},
   "outputs": [
    {
     "data": {
      "application/vnd.plotly.v1+json": {
       "config": {
        "plotlyServerURL": "https://plot.ly"
       },
       "data": [
        {
         "marker": {
          "color": "blue"
         },
         "mode": "markers",
         "name": "Data",
         "type": "scatter",
         "x": [
          130,
          165,
          150,
          150,
          140,
          198,
          220,
          215,
          225,
          190,
          170,
          160,
          150,
          225,
          95,
          95,
          97,
          85,
          88,
          46,
          87,
          90,
          95,
          113,
          90,
          215,
          200,
          210,
          193,
          88,
          90,
          95,
          100,
          105,
          100,
          88,
          100,
          165,
          175,
          153,
          150,
          180,
          170,
          175,
          110,
          72,
          100,
          88,
          86,
          90,
          70,
          76,
          65,
          69,
          60,
          70,
          95,
          80,
          54,
          90,
          86,
          165,
          175,
          150,
          153,
          150,
          208,
          155,
          160,
          190,
          97,
          150,
          130,
          140,
          150,
          112,
          76,
          87,
          69,
          86,
          92,
          97,
          80,
          88,
          175,
          150,
          145,
          137,
          150,
          198,
          150,
          158,
          150,
          215,
          225,
          175,
          105,
          100,
          100,
          88,
          95,
          46,
          150,
          167,
          170,
          180,
          100,
          88,
          72,
          94,
          90,
          85,
          107,
          90,
          145,
          230,
          49,
          75,
          91,
          112,
          150,
          110,
          122,
          180,
          95,
          100,
          100,
          67,
          80,
          65,
          75,
          100,
          110,
          105,
          140,
          150,
          150,
          140,
          150,
          83,
          67,
          78,
          52,
          61,
          75,
          75,
          75,
          97,
          93,
          67,
          95,
          105,
          72,
          72,
          170,
          145,
          150,
          148,
          110,
          105,
          110,
          95,
          110,
          110,
          129,
          75,
          83,
          100,
          78,
          96,
          71,
          97,
          97,
          70,
          90,
          95,
          88,
          98,
          115,
          53,
          86,
          81,
          92,
          79,
          83,
          140,
          150,
          120,
          152,
          100,
          105,
          81,
          90,
          52,
          60,
          70,
          53,
          100,
          78,
          110,
          95,
          71,
          70,
          75,
          72,
          102,
          150,
          88,
          108,
          120,
          180,
          145,
          130,
          150,
          68,
          80,
          58,
          96,
          70,
          145,
          110,
          145,
          130,
          110,
          105,
          100,
          98,
          180,
          170,
          190,
          149,
          78,
          88,
          75,
          89,
          63,
          83,
          67,
          78,
          97,
          110,
          110,
          48,
          66,
          52,
          70,
          60,
          110,
          140,
          139,
          105,
          95,
          85,
          88,
          100,
          90,
          105,
          85,
          110,
          120,
          145,
          165,
          139,
          140,
          68,
          95,
          97,
          75,
          95,
          105,
          85,
          97,
          103,
          125,
          115,
          133,
          71,
          68,
          115,
          85,
          88,
          90,
          110,
          130,
          129,
          138,
          135,
          155,
          142,
          125,
          150,
          71,
          65,
          80,
          80,
          77,
          125,
          71,
          90,
          70,
          70,
          65,
          69,
          90,
          115,
          115,
          90,
          76,
          60,
          70,
          65,
          90,
          88,
          90,
          90,
          78,
          90,
          75,
          92,
          75,
          65,
          105,
          65,
          48,
          48,
          67,
          67,
          67,
          67,
          62,
          132,
          100,
          88,
          72,
          84,
          84,
          92,
          110,
          84,
          58,
          64,
          60,
          67,
          65,
          62,
          68,
          63,
          65,
          65,
          74,
          75,
          75,
          100,
          74,
          80,
          76,
          116,
          120,
          110,
          105,
          88,
          85,
          88,
          88,
          88,
          85,
          84,
          90,
          92,
          74,
          68,
          68,
          63,
          70,
          88,
          75,
          70,
          67,
          67,
          67,
          110,
          85,
          92,
          112,
          96,
          84,
          90,
          86,
          52,
          84,
          79,
          82
         ],
         "y": [
          18,
          15,
          18,
          16,
          17,
          15,
          14,
          14,
          14,
          15,
          15,
          14,
          15,
          14,
          24,
          22,
          18,
          21,
          27,
          26,
          25,
          24,
          25,
          26,
          21,
          10,
          10,
          11,
          9,
          27,
          28,
          25,
          19,
          16,
          17,
          19,
          18,
          14,
          14,
          14,
          14,
          12,
          13,
          13,
          18,
          22,
          19,
          18,
          23,
          28,
          30,
          30,
          31,
          35,
          27,
          26,
          24,
          25,
          23,
          20,
          21,
          13,
          14,
          15,
          14,
          17,
          11,
          13,
          12,
          13,
          19,
          15,
          13,
          13,
          14,
          18,
          22,
          21,
          26,
          22,
          28,
          23,
          28,
          27,
          13,
          14,
          13,
          14,
          15,
          12,
          13,
          13,
          14,
          13,
          12,
          13,
          18,
          16,
          18,
          18,
          23,
          26,
          11,
          12,
          13,
          12,
          18,
          20,
          21,
          22,
          18,
          19,
          21,
          26,
          15,
          16,
          29,
          24,
          20,
          19,
          15,
          24,
          20,
          11,
          20,
          19,
          15,
          31,
          26,
          32,
          25,
          16,
          16,
          18,
          16,
          13,
          14,
          14,
          14,
          29,
          26,
          26,
          31,
          32,
          28,
          24,
          26,
          24,
          26,
          31,
          19,
          18,
          15,
          15,
          16,
          15,
          16,
          14,
          17,
          16,
          15,
          18,
          21,
          20,
          13,
          29,
          23,
          20,
          23,
          24,
          25,
          24,
          18,
          29,
          19,
          23,
          23,
          22,
          25,
          33,
          28,
          25,
          25,
          26,
          27,
          17.5,
          16,
          15.5,
          14.5,
          22,
          22,
          24,
          22.5,
          29,
          24.5,
          29,
          33,
          20,
          18,
          18.5,
          17.5,
          29.5,
          32,
          28,
          26.5,
          20,
          13,
          19,
          19,
          16.5,
          16.5,
          13,
          13,
          13,
          31.5,
          30,
          36,
          25.5,
          33.5,
          17.5,
          17,
          15.5,
          15,
          17.5,
          20.5,
          19,
          18.5,
          16,
          15.5,
          15.5,
          16,
          29,
          24.5,
          26,
          25.5,
          30.5,
          33.5,
          30,
          30.5,
          22,
          21.5,
          21.5,
          43.1,
          36.1,
          32.8,
          39.4,
          36.1,
          19.9,
          19.4,
          20.2,
          19.2,
          20.5,
          20.2,
          25.1,
          20.5,
          19.4,
          20.6,
          20.8,
          18.6,
          18.1,
          19.2,
          17.7,
          18.1,
          17.5,
          30,
          27.5,
          27.2,
          30.9,
          21.1,
          23.2,
          23.8,
          23.9,
          20.3,
          17,
          21.6,
          16.2,
          31.5,
          29.5,
          21.5,
          19.8,
          22.3,
          20.2,
          20.6,
          17,
          17.6,
          16.5,
          18.2,
          16.9,
          15.5,
          19.2,
          18.5,
          31.9,
          34.1,
          35.7,
          27.4,
          25.4,
          23,
          27.2,
          23.9,
          34.2,
          34.5,
          31.8,
          37.3,
          28.4,
          28.8,
          26.8,
          33.5,
          41.5,
          38.1,
          32.1,
          37.2,
          28,
          26.4,
          24.3,
          19.1,
          34.3,
          29.8,
          31.3,
          37,
          32.2,
          46.6,
          27.9,
          40.8,
          44.3,
          43.4,
          36.4,
          30,
          44.6,
          33.8,
          29.8,
          32.7,
          23.7,
          35,
          32.4,
          27.2,
          26.6,
          25.8,
          23.5,
          30,
          39.1,
          39,
          35.1,
          32.3,
          37,
          37.7,
          34.1,
          34.7,
          34.4,
          29.9,
          33,
          33.7,
          32.4,
          32.9,
          31.6,
          28.1,
          30.7,
          25.4,
          24.2,
          22.4,
          26.6,
          20.2,
          17.6,
          28,
          27,
          34,
          31,
          29,
          27,
          24,
          36,
          37,
          31,
          38,
          36,
          36,
          36,
          34,
          38,
          32,
          38,
          25,
          38,
          26,
          22,
          32,
          36,
          27,
          27,
          44,
          32,
          28,
          31
         ]
        },
        {
         "line": {
          "color": "red"
         },
         "mode": "lines",
         "name": "GAM Fit",
         "type": "scatter",
         "x": [
          46,
          47.85858585858586,
          49.717171717171716,
          51.57575757575758,
          53.43434343434343,
          55.292929292929294,
          57.151515151515156,
          59.01010101010101,
          60.868686868686865,
          62.72727272727273,
          64.58585858585859,
          66.44444444444444,
          68.30303030303031,
          70.16161616161617,
          72.02020202020202,
          73.87878787878788,
          75.73737373737373,
          77.5959595959596,
          79.45454545454545,
          81.31313131313132,
          83.17171717171718,
          85.03030303030303,
          86.88888888888889,
          88.74747474747474,
          90.60606060606061,
          92.46464646464646,
          94.32323232323233,
          96.18181818181819,
          98.04040404040404,
          99.8989898989899,
          101.75757575757575,
          103.6161616161616,
          105.47474747474747,
          107.33333333333334,
          109.1919191919192,
          111.05050505050505,
          112.9090909090909,
          114.76767676767676,
          116.62626262626263,
          118.48484848484848,
          120.34343434343434,
          122.20202020202021,
          124.06060606060606,
          125.91919191919192,
          127.77777777777777,
          129.63636363636363,
          131.49494949494948,
          133.35353535353534,
          135.21212121212122,
          137.07070707070707,
          138.92929292929293,
          140.78787878787878,
          142.64646464646466,
          144.50505050505052,
          146.36363636363637,
          148.22222222222223,
          150.08080808080808,
          151.93939393939394,
          153.7979797979798,
          155.65656565656565,
          157.5151515151515,
          159.37373737373736,
          161.2323232323232,
          163.0909090909091,
          164.94949494949495,
          166.8080808080808,
          168.66666666666669,
          170.52525252525254,
          172.3838383838384,
          174.24242424242425,
          176.1010101010101,
          177.95959595959596,
          179.8181818181818,
          181.67676767676767,
          183.53535353535352,
          185.3939393939394,
          187.25252525252526,
          189.11111111111111,
          190.96969696969697,
          192.82828282828282,
          194.68686868686868,
          196.54545454545453,
          198.40404040404042,
          200.26262626262627,
          202.12121212121212,
          203.97979797979798,
          205.83838383838383,
          207.6969696969697,
          209.55555555555554,
          211.41414141414143,
          213.27272727272728,
          215.13131313131314,
          216.989898989899,
          218.84848484848484,
          220.7070707070707,
          222.56565656565655,
          224.42424242424244,
          226.2828282828283,
          228.14141414141415,
          230
         ],
         "y": [
          33.86343227984475,
          34.1270433370584,
          34.353641728682106,
          34.52938751393656,
          34.640440752042494,
          34.67296150222059,
          34.6131236519721,
          34.451143043978426,
          34.186871783809366,
          33.82156734006239,
          33.35648718133496,
          32.79288877622458,
          32.1322629069285,
          31.388309353878324,
          30.592688724068466,
          29.77849931153662,
          28.97883941032048,
          28.226807314457705,
          27.55395138386111,
          26.96065120715275,
          26.418420178697232,
          25.8976831245849,
          25.36886487090608,
          24.80239024375111,
          24.172755357490274,
          23.495633355005797,
          22.81060677354617,
          22.157552659060684,
          21.57634805749864,
          21.106870014809324,
          20.780922112945376,
          20.584216228885303,
          20.486133117028313,
          20.45603439467375,
          20.463281679120968,
          20.4772373356202,
          20.471622787142987,
          20.434784140192956,
          20.35813110807305,
          20.233073404086223,
          20.05102074153542,
          19.803439053001355,
          19.489704499131538,
          19.12519113880249,
          18.727202933285255,
          18.313043843850892,
          17.900017831770448,
          17.50518254503648,
          17.13665366970608,
          16.79128470190433,
          16.465211023241714,
          16.154568015328728,
          15.855491059775858,
          15.56446913670078,
          15.28353671160913,
          15.019131258617847,
          14.777811536131832,
          14.566136302555982,
          14.3906643162952,
          14.256862903388672,
          14.161151976928638,
          14.095477918622148,
          14.051755316060909,
          14.021898756836631,
          13.997822828541015,
          13.97241387197814,
          13.943197068421199,
          13.909080259719968,
          13.868971524968662,
          13.821778943261496,
          13.766410369692238,
          13.701582502977336,
          13.625472536768289,
          13.536163164530066,
          13.431737079727629,
          13.310276975825946,
          13.169900725984565,
          13.011582231688045,
          12.841214078598735,
          12.665175176476891,
          12.48984443508277,
          12.321600764176637,
          12.166814587637461,
          12.031631304324225,
          11.921953338448128,
          11.843671031783913,
          11.802674726106337,
          11.804854763190146,
          11.855669173245959,
          11.95517517755243,
          12.09975875951487,
          12.285735745290008,
          12.509421961034583,
          12.76713323290533,
          13.055178862003643,
          13.36982340857223,
          13.707312666185903,
          14.063892364215196,
          14.43580823203065,
          14.81930599900281
         ]
        },
        {
         "line": {
          "color": "gray",
          "dash": "dot"
         },
         "mode": "lines",
         "name": "Lower CI",
         "type": "scatter",
         "x": [
          46,
          47.85858585858586,
          49.717171717171716,
          51.57575757575758,
          53.43434343434343,
          55.292929292929294,
          57.151515151515156,
          59.01010101010101,
          60.868686868686865,
          62.72727272727273,
          64.58585858585859,
          66.44444444444444,
          68.30303030303031,
          70.16161616161617,
          72.02020202020202,
          73.87878787878788,
          75.73737373737373,
          77.5959595959596,
          79.45454545454545,
          81.31313131313132,
          83.17171717171718,
          85.03030303030303,
          86.88888888888889,
          88.74747474747474,
          90.60606060606061,
          92.46464646464646,
          94.32323232323233,
          96.18181818181819,
          98.04040404040404,
          99.8989898989899,
          101.75757575757575,
          103.6161616161616,
          105.47474747474747,
          107.33333333333334,
          109.1919191919192,
          111.05050505050505,
          112.9090909090909,
          114.76767676767676,
          116.62626262626263,
          118.48484848484848,
          120.34343434343434,
          122.20202020202021,
          124.06060606060606,
          125.91919191919192,
          127.77777777777777,
          129.63636363636363,
          131.49494949494948,
          133.35353535353534,
          135.21212121212122,
          137.07070707070707,
          138.92929292929293,
          140.78787878787878,
          142.64646464646466,
          144.50505050505052,
          146.36363636363637,
          148.22222222222223,
          150.08080808080808,
          151.93939393939394,
          153.7979797979798,
          155.65656565656565,
          157.5151515151515,
          159.37373737373736,
          161.2323232323232,
          163.0909090909091,
          164.94949494949495,
          166.8080808080808,
          168.66666666666669,
          170.52525252525254,
          172.3838383838384,
          174.24242424242425,
          176.1010101010101,
          177.95959595959596,
          179.8181818181818,
          181.67676767676767,
          183.53535353535352,
          185.3939393939394,
          187.25252525252526,
          189.11111111111111,
          190.96969696969697,
          192.82828282828282,
          194.68686868686868,
          196.54545454545453,
          198.40404040404042,
          200.26262626262627,
          202.12121212121212,
          203.97979797979798,
          205.83838383838383,
          207.6969696969697,
          209.55555555555554,
          211.41414141414143,
          213.27272727272728,
          215.13131313131314,
          216.989898989899,
          218.84848484848484,
          220.7070707070707,
          222.56565656565655,
          224.42424242424244,
          226.2828282828283,
          228.14141414141415,
          230
         ],
         "y": [
          30.737306364023457,
          31.495470992168215,
          32.131154955871466,
          32.61490186630854,
          32.933391460212626,
          33.097665603167904,
          33.13730119201958,
          33.078641543784535,
          32.924635038621716,
          32.66438677891293,
          32.28634084892723,
          31.788475288020884,
          31.181097531277914,
          30.48107808430626,
          29.705440272533412,
          28.87869418688344,
          28.044868290052264,
          27.2636574834778,
          26.594260688000794,
          26.036819941059136,
          25.5368510846195,
          25.041878934569397,
          24.516449282205013,
          23.94487454769815,
          23.320359873971636,
          22.650176020268912,
          21.951401611631105,
          21.256166470857334,
          20.618378471671058,
          20.10340771718223,
          19.759979538721574,
          19.556837150137195,
          19.43755326224373,
          19.359459963701863,
          19.299159226780663,
          19.244539772487123,
          19.180218320293122,
          19.082756762898036,
          18.933141657550177,
          18.72478148606635,
          18.46267915152978,
          18.156971184982098,
          17.815008733475885,
          17.440140899074105,
          17.038601265684605,
          16.624729511834897,
          16.222069654833415,
          15.859632842226594,
          15.547240371853498,
          15.267917443846013,
          15.005172733119705,
          14.749815419723237,
          14.50133447300795,
          14.26277255365972,
          14.026090820387008,
          13.774938315089925,
          13.503144870541142,
          13.223857680328438,
          12.964836878900057,
          12.752681447649206,
          12.58501401787181,
          12.447627627393874,
          12.332707419413188,
          12.240219218565962,
          12.174509917957092,
          12.135618809075442,
          12.106797857403974,
          12.068238441814312,
          12.007461161090093,
          11.922672503904991,
          11.820844822257818,
          11.707361884337795,
          11.574840942229446,
          11.416302891775636,
          11.230886805159205,
          11.02392133887869,
          10.804000353540006,
          10.576482402328548,
          10.341584473387286,
          10.101822503664382,
          9.864355265612769,
          9.640559617792139,
          9.443401130810367,
          9.278021562035704,
          9.142710297249666,
          9.039628972851194,
          8.976879029789139,
          8.967883730507683,
          9.02766485687695,
          9.156897510839627,
          9.34349544714673,
          9.57132987602357,
          9.820039013727534,
          10.063955585400867,
          10.270762688047313,
          10.402207218254752,
          10.431453413082886,
          10.352872025411733,
          10.177757550857166,
          9.92533456399996
         ]
        },
        {
         "line": {
          "color": "gray",
          "dash": "dot"
         },
         "mode": "lines",
         "name": "Upper CI",
         "type": "scatter",
         "x": [
          46,
          47.85858585858586,
          49.717171717171716,
          51.57575757575758,
          53.43434343434343,
          55.292929292929294,
          57.151515151515156,
          59.01010101010101,
          60.868686868686865,
          62.72727272727273,
          64.58585858585859,
          66.44444444444444,
          68.30303030303031,
          70.16161616161617,
          72.02020202020202,
          73.87878787878788,
          75.73737373737373,
          77.5959595959596,
          79.45454545454545,
          81.31313131313132,
          83.17171717171718,
          85.03030303030303,
          86.88888888888889,
          88.74747474747474,
          90.60606060606061,
          92.46464646464646,
          94.32323232323233,
          96.18181818181819,
          98.04040404040404,
          99.8989898989899,
          101.75757575757575,
          103.6161616161616,
          105.47474747474747,
          107.33333333333334,
          109.1919191919192,
          111.05050505050505,
          112.9090909090909,
          114.76767676767676,
          116.62626262626263,
          118.48484848484848,
          120.34343434343434,
          122.20202020202021,
          124.06060606060606,
          125.91919191919192,
          127.77777777777777,
          129.63636363636363,
          131.49494949494948,
          133.35353535353534,
          135.21212121212122,
          137.07070707070707,
          138.92929292929293,
          140.78787878787878,
          142.64646464646466,
          144.50505050505052,
          146.36363636363637,
          148.22222222222223,
          150.08080808080808,
          151.93939393939394,
          153.7979797979798,
          155.65656565656565,
          157.5151515151515,
          159.37373737373736,
          161.2323232323232,
          163.0909090909091,
          164.94949494949495,
          166.8080808080808,
          168.66666666666669,
          170.52525252525254,
          172.3838383838384,
          174.24242424242425,
          176.1010101010101,
          177.95959595959596,
          179.8181818181818,
          181.67676767676767,
          183.53535353535352,
          185.3939393939394,
          187.25252525252526,
          189.11111111111111,
          190.96969696969697,
          192.82828282828282,
          194.68686868686868,
          196.54545454545453,
          198.40404040404042,
          200.26262626262627,
          202.12121212121212,
          203.97979797979798,
          205.83838383838383,
          207.6969696969697,
          209.55555555555554,
          211.41414141414143,
          213.27272727272728,
          215.13131313131314,
          216.989898989899,
          218.84848484848484,
          220.7070707070707,
          222.56565656565655,
          224.42424242424244,
          226.2828282828283,
          228.14141414141415,
          230
         ],
         "y": [
          36.98955819566605,
          36.75861568194859,
          36.57612850149275,
          36.44387316156458,
          36.34749004387236,
          36.24825740127327,
          36.08894611192463,
          35.82364454417232,
          35.449108528997016,
          34.97874790121185,
          34.42663351374269,
          33.797302264428275,
          33.08342828257909,
          32.295540623450385,
          31.47993717560352,
          30.6783044361898,
          29.912810530588693,
          29.18995714543761,
          28.51364207972143,
          27.884482473246365,
          27.299989272774965,
          26.753487314600406,
          26.221280459607147,
          25.65990593980407,
          25.025150841008912,
          24.341090689742682,
          23.669811935461233,
          23.058938847264034,
          22.534317643326226,
          22.11033231243642,
          21.80186468716918,
          21.61159530763341,
          21.534712971812898,
          21.55260882564564,
          21.627404131461272,
          21.709934898753275,
          21.763027253992853,
          21.786811517487877,
          21.783120558595922,
          21.741365322106095,
          21.63936233154106,
          21.449906921020613,
          21.16440026478719,
          20.810241378530872,
          20.415804600885906,
          20.001358175866887,
          19.57796600870748,
          19.150732247846367,
          18.726066967558666,
          18.31465195996265,
          17.92524931336372,
          17.55932061093422,
          17.209647646543768,
          16.866165719741836,
          16.540982602831253,
          16.26332420214577,
          16.052478201722522,
          15.908414924783527,
          15.816491753690345,
          15.761044359128139,
          15.737289935985466,
          15.743328209850421,
          15.77080321270863,
          15.8035782951073,
          15.821135739124937,
          15.80920893488084,
          15.779596279438424,
          15.749922077625623,
          15.730481888847232,
          15.720885382618,
          15.711975917126658,
          15.695803121616878,
          15.676104131307131,
          15.656023437284496,
          15.632587354296053,
          15.596632612773202,
          15.535801098429124,
          15.446682061047543,
          15.340843683810185,
          15.228527849289401,
          15.11533360455277,
          15.002641910561135,
          14.890228044464555,
          14.785241046612747,
          14.701196379646591,
          14.647713090716632,
          14.628470422423536,
          14.64182579587261,
          14.683673489614968,
          14.753452844265233,
          14.856022071883011,
          15.000141614556446,
          15.198804908341632,
          15.470310880409793,
          15.839595035959974,
          16.33743959888971,
          16.98317191928892,
          17.774912703018657,
          18.693858913204135,
          19.713277434005658
         ]
        }
       ],
       "layout": {
        "template": {
         "data": {
          "bar": [
           {
            "error_x": {
             "color": "#2a3f5f"
            },
            "error_y": {
             "color": "#2a3f5f"
            },
            "marker": {
             "line": {
              "color": "white",
              "width": 0.5
             },
             "pattern": {
              "fillmode": "overlay",
              "size": 10,
              "solidity": 0.2
             }
            },
            "type": "bar"
           }
          ],
          "barpolar": [
           {
            "marker": {
             "line": {
              "color": "white",
              "width": 0.5
             },
             "pattern": {
              "fillmode": "overlay",
              "size": 10,
              "solidity": 0.2
             }
            },
            "type": "barpolar"
           }
          ],
          "carpet": [
           {
            "aaxis": {
             "endlinecolor": "#2a3f5f",
             "gridcolor": "#C8D4E3",
             "linecolor": "#C8D4E3",
             "minorgridcolor": "#C8D4E3",
             "startlinecolor": "#2a3f5f"
            },
            "baxis": {
             "endlinecolor": "#2a3f5f",
             "gridcolor": "#C8D4E3",
             "linecolor": "#C8D4E3",
             "minorgridcolor": "#C8D4E3",
             "startlinecolor": "#2a3f5f"
            },
            "type": "carpet"
           }
          ],
          "choropleth": [
           {
            "colorbar": {
             "outlinewidth": 0,
             "ticks": ""
            },
            "type": "choropleth"
           }
          ],
          "contour": [
           {
            "colorbar": {
             "outlinewidth": 0,
             "ticks": ""
            },
            "colorscale": [
             [
              0,
              "#0d0887"
             ],
             [
              0.1111111111111111,
              "#46039f"
             ],
             [
              0.2222222222222222,
              "#7201a8"
             ],
             [
              0.3333333333333333,
              "#9c179e"
             ],
             [
              0.4444444444444444,
              "#bd3786"
             ],
             [
              0.5555555555555556,
              "#d8576b"
             ],
             [
              0.6666666666666666,
              "#ed7953"
             ],
             [
              0.7777777777777778,
              "#fb9f3a"
             ],
             [
              0.8888888888888888,
              "#fdca26"
             ],
             [
              1,
              "#f0f921"
             ]
            ],
            "type": "contour"
           }
          ],
          "contourcarpet": [
           {
            "colorbar": {
             "outlinewidth": 0,
             "ticks": ""
            },
            "type": "contourcarpet"
           }
          ],
          "heatmap": [
           {
            "colorbar": {
             "outlinewidth": 0,
             "ticks": ""
            },
            "colorscale": [
             [
              0,
              "#0d0887"
             ],
             [
              0.1111111111111111,
              "#46039f"
             ],
             [
              0.2222222222222222,
              "#7201a8"
             ],
             [
              0.3333333333333333,
              "#9c179e"
             ],
             [
              0.4444444444444444,
              "#bd3786"
             ],
             [
              0.5555555555555556,
              "#d8576b"
             ],
             [
              0.6666666666666666,
              "#ed7953"
             ],
             [
              0.7777777777777778,
              "#fb9f3a"
             ],
             [
              0.8888888888888888,
              "#fdca26"
             ],
             [
              1,
              "#f0f921"
             ]
            ],
            "type": "heatmap"
           }
          ],
          "heatmapgl": [
           {
            "colorbar": {
             "outlinewidth": 0,
             "ticks": ""
            },
            "colorscale": [
             [
              0,
              "#0d0887"
             ],
             [
              0.1111111111111111,
              "#46039f"
             ],
             [
              0.2222222222222222,
              "#7201a8"
             ],
             [
              0.3333333333333333,
              "#9c179e"
             ],
             [
              0.4444444444444444,
              "#bd3786"
             ],
             [
              0.5555555555555556,
              "#d8576b"
             ],
             [
              0.6666666666666666,
              "#ed7953"
             ],
             [
              0.7777777777777778,
              "#fb9f3a"
             ],
             [
              0.8888888888888888,
              "#fdca26"
             ],
             [
              1,
              "#f0f921"
             ]
            ],
            "type": "heatmapgl"
           }
          ],
          "histogram": [
           {
            "marker": {
             "pattern": {
              "fillmode": "overlay",
              "size": 10,
              "solidity": 0.2
             }
            },
            "type": "histogram"
           }
          ],
          "histogram2d": [
           {
            "colorbar": {
             "outlinewidth": 0,
             "ticks": ""
            },
            "colorscale": [
             [
              0,
              "#0d0887"
             ],
             [
              0.1111111111111111,
              "#46039f"
             ],
             [
              0.2222222222222222,
              "#7201a8"
             ],
             [
              0.3333333333333333,
              "#9c179e"
             ],
             [
              0.4444444444444444,
              "#bd3786"
             ],
             [
              0.5555555555555556,
              "#d8576b"
             ],
             [
              0.6666666666666666,
              "#ed7953"
             ],
             [
              0.7777777777777778,
              "#fb9f3a"
             ],
             [
              0.8888888888888888,
              "#fdca26"
             ],
             [
              1,
              "#f0f921"
             ]
            ],
            "type": "histogram2d"
           }
          ],
          "histogram2dcontour": [
           {
            "colorbar": {
             "outlinewidth": 0,
             "ticks": ""
            },
            "colorscale": [
             [
              0,
              "#0d0887"
             ],
             [
              0.1111111111111111,
              "#46039f"
             ],
             [
              0.2222222222222222,
              "#7201a8"
             ],
             [
              0.3333333333333333,
              "#9c179e"
             ],
             [
              0.4444444444444444,
              "#bd3786"
             ],
             [
              0.5555555555555556,
              "#d8576b"
             ],
             [
              0.6666666666666666,
              "#ed7953"
             ],
             [
              0.7777777777777778,
              "#fb9f3a"
             ],
             [
              0.8888888888888888,
              "#fdca26"
             ],
             [
              1,
              "#f0f921"
             ]
            ],
            "type": "histogram2dcontour"
           }
          ],
          "mesh3d": [
           {
            "colorbar": {
             "outlinewidth": 0,
             "ticks": ""
            },
            "type": "mesh3d"
           }
          ],
          "parcoords": [
           {
            "line": {
             "colorbar": {
              "outlinewidth": 0,
              "ticks": ""
             }
            },
            "type": "parcoords"
           }
          ],
          "pie": [
           {
            "automargin": true,
            "type": "pie"
           }
          ],
          "scatter": [
           {
            "fillpattern": {
             "fillmode": "overlay",
             "size": 10,
             "solidity": 0.2
            },
            "type": "scatter"
           }
          ],
          "scatter3d": [
           {
            "line": {
             "colorbar": {
              "outlinewidth": 0,
              "ticks": ""
             }
            },
            "marker": {
             "colorbar": {
              "outlinewidth": 0,
              "ticks": ""
             }
            },
            "type": "scatter3d"
           }
          ],
          "scattercarpet": [
           {
            "marker": {
             "colorbar": {
              "outlinewidth": 0,
              "ticks": ""
             }
            },
            "type": "scattercarpet"
           }
          ],
          "scattergeo": [
           {
            "marker": {
             "colorbar": {
              "outlinewidth": 0,
              "ticks": ""
             }
            },
            "type": "scattergeo"
           }
          ],
          "scattergl": [
           {
            "marker": {
             "colorbar": {
              "outlinewidth": 0,
              "ticks": ""
             }
            },
            "type": "scattergl"
           }
          ],
          "scattermapbox": [
           {
            "marker": {
             "colorbar": {
              "outlinewidth": 0,
              "ticks": ""
             }
            },
            "type": "scattermapbox"
           }
          ],
          "scatterpolar": [
           {
            "marker": {
             "colorbar": {
              "outlinewidth": 0,
              "ticks": ""
             }
            },
            "type": "scatterpolar"
           }
          ],
          "scatterpolargl": [
           {
            "marker": {
             "colorbar": {
              "outlinewidth": 0,
              "ticks": ""
             }
            },
            "type": "scatterpolargl"
           }
          ],
          "scatterternary": [
           {
            "marker": {
             "colorbar": {
              "outlinewidth": 0,
              "ticks": ""
             }
            },
            "type": "scatterternary"
           }
          ],
          "surface": [
           {
            "colorbar": {
             "outlinewidth": 0,
             "ticks": ""
            },
            "colorscale": [
             [
              0,
              "#0d0887"
             ],
             [
              0.1111111111111111,
              "#46039f"
             ],
             [
              0.2222222222222222,
              "#7201a8"
             ],
             [
              0.3333333333333333,
              "#9c179e"
             ],
             [
              0.4444444444444444,
              "#bd3786"
             ],
             [
              0.5555555555555556,
              "#d8576b"
             ],
             [
              0.6666666666666666,
              "#ed7953"
             ],
             [
              0.7777777777777778,
              "#fb9f3a"
             ],
             [
              0.8888888888888888,
              "#fdca26"
             ],
             [
              1,
              "#f0f921"
             ]
            ],
            "type": "surface"
           }
          ],
          "table": [
           {
            "cells": {
             "fill": {
              "color": "#EBF0F8"
             },
             "line": {
              "color": "white"
             }
            },
            "header": {
             "fill": {
              "color": "#C8D4E3"
             },
             "line": {
              "color": "white"
             }
            },
            "type": "table"
           }
          ]
         },
         "layout": {
          "annotationdefaults": {
           "arrowcolor": "#2a3f5f",
           "arrowhead": 0,
           "arrowwidth": 1
          },
          "autotypenumbers": "strict",
          "coloraxis": {
           "colorbar": {
            "outlinewidth": 0,
            "ticks": ""
           }
          },
          "colorscale": {
           "diverging": [
            [
             0,
             "#8e0152"
            ],
            [
             0.1,
             "#c51b7d"
            ],
            [
             0.2,
             "#de77ae"
            ],
            [
             0.3,
             "#f1b6da"
            ],
            [
             0.4,
             "#fde0ef"
            ],
            [
             0.5,
             "#f7f7f7"
            ],
            [
             0.6,
             "#e6f5d0"
            ],
            [
             0.7,
             "#b8e186"
            ],
            [
             0.8,
             "#7fbc41"
            ],
            [
             0.9,
             "#4d9221"
            ],
            [
             1,
             "#276419"
            ]
           ],
           "sequential": [
            [
             0,
             "#0d0887"
            ],
            [
             0.1111111111111111,
             "#46039f"
            ],
            [
             0.2222222222222222,
             "#7201a8"
            ],
            [
             0.3333333333333333,
             "#9c179e"
            ],
            [
             0.4444444444444444,
             "#bd3786"
            ],
            [
             0.5555555555555556,
             "#d8576b"
            ],
            [
             0.6666666666666666,
             "#ed7953"
            ],
            [
             0.7777777777777778,
             "#fb9f3a"
            ],
            [
             0.8888888888888888,
             "#fdca26"
            ],
            [
             1,
             "#f0f921"
            ]
           ],
           "sequentialminus": [
            [
             0,
             "#0d0887"
            ],
            [
             0.1111111111111111,
             "#46039f"
            ],
            [
             0.2222222222222222,
             "#7201a8"
            ],
            [
             0.3333333333333333,
             "#9c179e"
            ],
            [
             0.4444444444444444,
             "#bd3786"
            ],
            [
             0.5555555555555556,
             "#d8576b"
            ],
            [
             0.6666666666666666,
             "#ed7953"
            ],
            [
             0.7777777777777778,
             "#fb9f3a"
            ],
            [
             0.8888888888888888,
             "#fdca26"
            ],
            [
             1,
             "#f0f921"
            ]
           ]
          },
          "colorway": [
           "#636efa",
           "#EF553B",
           "#00cc96",
           "#ab63fa",
           "#FFA15A",
           "#19d3f3",
           "#FF6692",
           "#B6E880",
           "#FF97FF",
           "#FECB52"
          ],
          "font": {
           "color": "#2a3f5f"
          },
          "geo": {
           "bgcolor": "white",
           "lakecolor": "white",
           "landcolor": "white",
           "showlakes": true,
           "showland": true,
           "subunitcolor": "#C8D4E3"
          },
          "hoverlabel": {
           "align": "left"
          },
          "hovermode": "closest",
          "mapbox": {
           "style": "light"
          },
          "paper_bgcolor": "white",
          "plot_bgcolor": "white",
          "polar": {
           "angularaxis": {
            "gridcolor": "#EBF0F8",
            "linecolor": "#EBF0F8",
            "ticks": ""
           },
           "bgcolor": "white",
           "radialaxis": {
            "gridcolor": "#EBF0F8",
            "linecolor": "#EBF0F8",
            "ticks": ""
           }
          },
          "scene": {
           "xaxis": {
            "backgroundcolor": "white",
            "gridcolor": "#DFE8F3",
            "gridwidth": 2,
            "linecolor": "#EBF0F8",
            "showbackground": true,
            "ticks": "",
            "zerolinecolor": "#EBF0F8"
           },
           "yaxis": {
            "backgroundcolor": "white",
            "gridcolor": "#DFE8F3",
            "gridwidth": 2,
            "linecolor": "#EBF0F8",
            "showbackground": true,
            "ticks": "",
            "zerolinecolor": "#EBF0F8"
           },
           "zaxis": {
            "backgroundcolor": "white",
            "gridcolor": "#DFE8F3",
            "gridwidth": 2,
            "linecolor": "#EBF0F8",
            "showbackground": true,
            "ticks": "",
            "zerolinecolor": "#EBF0F8"
           }
          },
          "shapedefaults": {
           "line": {
            "color": "#2a3f5f"
           }
          },
          "ternary": {
           "aaxis": {
            "gridcolor": "#DFE8F3",
            "linecolor": "#A2B1C6",
            "ticks": ""
           },
           "baxis": {
            "gridcolor": "#DFE8F3",
            "linecolor": "#A2B1C6",
            "ticks": ""
           },
           "bgcolor": "white",
           "caxis": {
            "gridcolor": "#DFE8F3",
            "linecolor": "#A2B1C6",
            "ticks": ""
           }
          },
          "title": {
           "x": 0.05
          },
          "xaxis": {
           "automargin": true,
           "gridcolor": "#EBF0F8",
           "linecolor": "#EBF0F8",
           "ticks": "",
           "title": {
            "standoff": 15
           },
           "zerolinecolor": "#EBF0F8",
           "zerolinewidth": 2
          },
          "yaxis": {
           "automargin": true,
           "gridcolor": "#EBF0F8",
           "linecolor": "#EBF0F8",
           "ticks": "",
           "title": {
            "standoff": 15
           },
           "zerolinecolor": "#EBF0F8",
           "zerolinewidth": 2
          }
         }
        },
        "title": {
         "text": "GAM Fit using pyGAM"
        },
        "xaxis": {
         "title": {
          "text": "Horsepower"
         }
        },
        "yaxis": {
         "title": {
          "text": "MPG"
         }
        }
       }
      }
     },
     "metadata": {},
     "output_type": "display_data"
    }
   ],
   "source": [
    "import numpy as np\n",
    "import pandas as pd\n",
    "import plotly.graph_objects as go\n",
    "from pygam import LinearGAM, s\n",
    "\n",
    "# Load dataset\n",
    "url = \"https://github.com/dustywhite7/Econ8310/raw/master/DataSets/auto-mpg.csv\"\n",
    "data = pd.read_csv(url)\n",
    "\n",
    "# Drop missing values\n",
    "data = data.dropna()\n",
    "\n",
    "# Convert 'horsepower' column to numeric\n",
    "data['horsepower'] = pd.to_numeric(data['horsepower'], errors='coerce')\n",
    "data = data.dropna()\n",
    "\n",
    "# Define features and target\n",
    "X = data[['horsepower']].values\n",
    "y = data['mpg'].values\n",
    "\n",
    "# Fit a GAM model with a smoothing spline\n",
    "gam = LinearGAM(s(0)).fit(X, y)\n",
    "\n",
    "# Generate predictions\n",
    "X_pred = np.linspace(X.min(), X.max(), 100).reshape(-1, 1)\n",
    "y_pred = gam.predict(X_pred)\n",
    "confidence_intervals = gam.confidence_intervals(X_pred)\n",
    "\n",
    "# Plot results using Plotly\n",
    "fig = go.Figure()\n",
    "\n",
    "# Scatter plot for actual data\n",
    "fig.add_trace(go.Scatter(\n",
    "    x=X.flatten(), y=y, mode='markers',\n",
    "    name='Data', marker=dict(color='blue')\n",
    "))\n",
    "\n",
    "# Line plot for GAM fit\n",
    "fig.add_trace(go.Scatter(\n",
    "    x=X_pred.flatten(), y=y_pred, mode='lines',\n",
    "    name='GAM Fit', line=dict(color='red')\n",
    "))\n",
    "\n",
    "# Confidence interval (lower bound)\n",
    "fig.add_trace(go.Scatter(\n",
    "    x=X_pred.flatten(), y=confidence_intervals[:, 0], mode='lines',\n",
    "    name='Lower CI', line=dict(dash='dot', color='gray')\n",
    "))\n",
    "\n",
    "# Confidence interval (upper bound)\n",
    "fig.add_trace(go.Scatter(\n",
    "    x=X_pred.flatten(), y=confidence_intervals[:, 1], mode='lines',\n",
    "    name='Upper CI', line=dict(dash='dot', color='gray')\n",
    "))\n",
    "\n",
    "# Update layout\n",
    "fig.update_layout(\n",
    "    title=\"GAM Fit using pyGAM\",\n",
    "    xaxis_title=\"Horsepower\",\n",
    "    yaxis_title=\"MPG\",\n",
    "    template=\"plotly_white\"\n",
    ")\n",
    "\n",
    "# Show plot\n",
    "fig.show()"
   ]
  }
 ],
 "metadata": {
  "kernelspec": {
   "display_name": "base",
   "language": "python",
   "name": "python3"
  },
  "language_info": {
   "codemirror_mode": {
    "name": "ipython",
    "version": 3
   },
   "file_extension": ".py",
   "mimetype": "text/x-python",
   "name": "python",
   "nbconvert_exporter": "python",
   "pygments_lexer": "ipython3",
   "version": "3.12.7"
  }
 },
 "nbformat": 4,
 "nbformat_minor": 5
}
